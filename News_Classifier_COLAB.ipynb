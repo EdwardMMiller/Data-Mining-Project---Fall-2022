{
  "nbformat": 4,
  "nbformat_minor": 0,
  "metadata": {
    "colab": {
      "provenance": [],
      "machine_shape": "hm",
      "authorship_tag": "ABX9TyNvxqtmVyWLcC8BOWZ1ARXj",
      "include_colab_link": true
    },
    "kernelspec": {
      "name": "python3",
      "display_name": "Python 3"
    },
    "language_info": {
      "name": "python"
    },
    "accelerator": "GPU",
    "gpuClass": "premium"
  },
  "cells": [
    {
      "cell_type": "markdown",
      "metadata": {
        "id": "view-in-github",
        "colab_type": "text"
      },
      "source": [
        "<a href=\"https://colab.research.google.com/github/EdwardMMiller/Data-Mining-Project---Fall-2022/blob/main/News_Classifier_COLAB.ipynb\" target=\"_parent\"><img src=\"https://colab.research.google.com/assets/colab-badge.svg\" alt=\"Open In Colab\"/></a>"
      ]
    },
    {
      "cell_type": "markdown",
      "source": [
        "# **NEWS CLASSIFIER**\n",
        "\n",
        "## DATA MINING - FALL 2022\n",
        "## CUNY GRADUATE CENTER\n",
        "## Edward Miller\n",
        "\n",
        "## Overview\n",
        "\n",
        "Over the past few decades, news sources have drastically shifted from print media to\n",
        "online sites due to the widespread adoption of the internet by the general public. As a\n",
        "consequence of this shift, it has become easier for news articles from untrustworthy\n",
        "sources to pass themselves as real, and cause disinformation to spread rapidly. This\n",
        "disinformation can cause widespread damage and is often used to push false narratives to\n",
        "benefit a political party or a government. It has already caused harm to democratic\n",
        "institutions by eroding trust in media sources, as well as motivating extreme actions based\n",
        "on incorrect information, such as the Capitol Riots on January 6, 2021 . Therefore, it is now\n",
        "more important than ever to develop sound methods for determining whether a news\n",
        "story is real, or not. The intent of this project will be to use deep learning in order to train a\n",
        "model that can correctly classify a list of news stories as real or not real.\n",
        "\n",
        "## Goals\n",
        "1. Train a deep learning model for binary classification to correctly classify whether a\n",
        "news story is real\n",
        "2. Test Trained Model on a dataset to determine how well it differentiates between the\n",
        "two classes, and report findings.\n",
        "\n",
        "## Dataset\n",
        "The dataset, as well as the direct inspiration for this project, comes from the following kaggle\n",
        "website, and the author of the code has some good insights that will be reused here as well.\n",
        "\n",
        "https://www.kaggle.com/code/urkchar/determine-if-news-is-fake-or-real/notebook\n",
        "\n",
        "Progress will be updated through Github here:\n",
        "\n",
        "https://github.com/EdwardMMiller/Data-Mining-Project---Fall-2022/new/main"
      ],
      "metadata": {
        "id": "yZUwNV4SJ7jP"
      }
    },
    {
      "cell_type": "code",
      "execution_count": 45,
      "metadata": {
        "colab": {
          "base_uri": "https://localhost:8080/"
        },
        "id": "ntQpBXh7GOdL",
        "outputId": "9ab48f94-a2c5-4218-81af-6af603d6f444"
      },
      "outputs": [
        {
          "output_type": "stream",
          "name": "stdout",
          "text": [
            "Looking in indexes: https://pypi.org/simple, https://us-python.pkg.dev/colab-wheels/public/simple/\n",
            "Requirement already satisfied: pandas in /usr/local/lib/python3.8/dist-packages (1.3.5)\n",
            "Requirement already satisfied: python-dateutil>=2.7.3 in /usr/local/lib/python3.8/dist-packages (from pandas) (2.8.2)\n",
            "Requirement already satisfied: pytz>=2017.3 in /usr/local/lib/python3.8/dist-packages (from pandas) (2022.6)\n",
            "Requirement already satisfied: numpy>=1.17.3 in /usr/local/lib/python3.8/dist-packages (from pandas) (1.21.6)\n",
            "Requirement already satisfied: six>=1.5 in /usr/local/lib/python3.8/dist-packages (from python-dateutil>=2.7.3->pandas) (1.15.0)\n",
            "Looking in indexes: https://pypi.org/simple, https://us-python.pkg.dev/colab-wheels/public/simple/\n",
            "Requirement already satisfied: numpy in /usr/local/lib/python3.8/dist-packages (1.21.6)\n",
            "/bin/bash: -c: line 0: unexpected EOF while looking for matching `''\n",
            "/bin/bash: -c: line 1: syntax error: unexpected end of file\n",
            "Looking in indexes: https://pypi.org/simple, https://us-python.pkg.dev/colab-wheels/public/simple/\n",
            "Requirement already satisfied: keras in /usr/local/lib/python3.8/dist-packages (2.9.0)\n",
            "Looking in indexes: https://pypi.org/simple, https://us-python.pkg.dev/colab-wheels/public/simple/\n",
            "Requirement already satisfied: seaborn in /usr/local/lib/python3.8/dist-packages (0.11.2)\n",
            "Requirement already satisfied: matplotlib>=2.2 in /usr/local/lib/python3.8/dist-packages (from seaborn) (3.2.2)\n",
            "Requirement already satisfied: pandas>=0.23 in /usr/local/lib/python3.8/dist-packages (from seaborn) (1.3.5)\n",
            "Requirement already satisfied: scipy>=1.0 in /usr/local/lib/python3.8/dist-packages (from seaborn) (1.7.3)\n",
            "Requirement already satisfied: numpy>=1.15 in /usr/local/lib/python3.8/dist-packages (from seaborn) (1.21.6)\n",
            "Requirement already satisfied: cycler>=0.10 in /usr/local/lib/python3.8/dist-packages (from matplotlib>=2.2->seaborn) (0.11.0)\n",
            "Requirement already satisfied: pyparsing!=2.0.4,!=2.1.2,!=2.1.6,>=2.0.1 in /usr/local/lib/python3.8/dist-packages (from matplotlib>=2.2->seaborn) (3.0.9)\n",
            "Requirement already satisfied: python-dateutil>=2.1 in /usr/local/lib/python3.8/dist-packages (from matplotlib>=2.2->seaborn) (2.8.2)\n",
            "Requirement already satisfied: kiwisolver>=1.0.1 in /usr/local/lib/python3.8/dist-packages (from matplotlib>=2.2->seaborn) (1.4.4)\n",
            "Requirement already satisfied: pytz>=2017.3 in /usr/local/lib/python3.8/dist-packages (from pandas>=0.23->seaborn) (2022.6)\n",
            "Requirement already satisfied: six>=1.5 in /usr/local/lib/python3.8/dist-packages (from python-dateutil>=2.1->matplotlib>=2.2->seaborn) (1.15.0)\n",
            "Version:  2.9.2\n",
            "Eager mode:  True\n",
            "Hub version:  0.12.0\n"
          ]
        }
      ],
      "source": [
        "!pip install pandas\n",
        "!pip install numpy\n",
        "!pip install tensorflow==2.9.2'\n",
        "!pip install keras\n",
        "!pip3 install seaborn\n",
        "\n",
        "print(\"Version: \", tf.__version__)\n",
        "print(\"Eager mode: \", tf.executing_eagerly())\n",
        "print(\"Hub version: \", hub.__version__)"
      ]
    },
    {
      "cell_type": "code",
      "source": [
        "#@title Load the Universal Sentence Encoder's TF Hub module\n",
        "from absl import logging\n",
        "import tensorflow as tf\n",
        "import tensorflow_hub as hub\n",
        "import keras as K\n",
        "import matplotlib.pyplot as plt\n",
        "import numpy as np\n",
        "import os\n",
        "import pandas as pd\n",
        "import re\n",
        "import seaborn as sns\n",
        "\n",
        "# libraries needed for \n",
        "# universal sentence encoder \n",
        "\n",
        "module_url = \"https://tfhub.dev/google/universal-sentence-encoder/4\" #@param [\"https://tfhub.dev/google/universal-sentence-encoder/4\", \"https://tfhub.dev/google/universal-sentence-encoder-large/5\"]\n",
        "model = hub.load(module_url)\n",
        "print (\"module %s loaded\" % module_url)\n",
        "def embed(input):\n",
        "  return model(input)\n",
        "\n",
        "# function for later use of Universal Sentence Encoder \n",
        "\n",
        "from sklearn import metrics\n",
        "from sklearn.utils import shuffle\n",
        "from sklearn.model_selection import GridSearchCV, train_test_split\n",
        "# importing sklearn packages\n",
        "\n",
        "import re\n",
        "# importing text library\n",
        "\n",
        "import zipfile"
      ],
      "metadata": {
        "colab": {
          "base_uri": "https://localhost:8080/"
        },
        "id": "bF_-qsPVIaii",
        "outputId": "180ea79e-6dd0-4bca-8f4c-13a5fce29daf"
      },
      "execution_count": 46,
      "outputs": [
        {
          "output_type": "stream",
          "name": "stdout",
          "text": [
            "module https://tfhub.dev/google/universal-sentence-encoder/4 loaded\n"
          ]
        }
      ]
    },
    {
      "cell_type": "code",
      "source": [
        "URL_T = 'https://raw.githubusercontent.com/EdwardMMiller/Data-Mining-Project---Fall-2022/main/True.csv'\n",
        "URL_F = \"https://raw.githubusercontent.com/EdwardMMiller/Data-Mining-Project---Fall-2022/main/Fake.csv\"\n",
        "# getting data from Github\n",
        "\n",
        "True_df = pd.read_csv(URL_T)\n",
        "Fake_df = pd.read_csv(URL_F)\n",
        "# getting the csv files into dataframe\n",
        "\n",
        "print(\"Number of rows in True_df = \", True_df.shape[0])\n",
        "print(\"Number of rows in Fake_df = \", Fake_df.shape[0])\n",
        "print(\"Number of columns in True_df = \", True_df.shape[1])\n",
        "print(\"Number of columns in Fake_df = \", Fake_df.shape[1])\n",
        "# Checking number of rows and columns in each dataset\n",
        "\n",
        "columns_list_T = True_df.columns.tolist()\n",
        "columns_list_F = Fake_df.columns.tolist()\n",
        "print(\"List of columns in True_df\", columns_list_T)\n",
        "print(\"List of columns in False_df\", columns_list_T)\n",
        "# checking to see if columns are the same\n",
        "#%%\n",
        "def data_file_explore(file, df):\n",
        "\n",
        "  \"\"\"\n",
        "    This is a simple function designed to do surface level\n",
        "    exploration of the data in a csv file. It will print the\n",
        "    first five rows of a data file, number of rows and columns in the data file\n",
        "    number of unique values in the data value, and the number of missing values\n",
        "    in the data file. It also inputs the minimum, maximum, mean and median\n",
        "    for the numeric columns, and then finds the mode for the column along with\n",
        "    the number of times it appears in that column. Finally, it also gets the\n",
        "    most frequent string found for the string columns along with the number of\n",
        "    times that string is found in the column. It is assumed that the data\n",
        "    that is being worked with is either numeric or a string.\n",
        "\n",
        "  Args:\n",
        "    file = string referencing the filename\n",
        "    df = a data frame created from reading in the file\n",
        "  Returns:\n",
        "    none\n",
        "  \"\"\"\n",
        "  \n",
        "  print(\"*********************** FILE NAME: %s ***********************\\n\" %file)\n",
        "\n",
        "  # This is just a file header\n",
        "\n",
        "  print(\"First five rows in file: %s\\n\" %file)\n",
        "  display(df.head())\n",
        "  # looking at the first five rows of the data\n",
        "\n",
        "  print(\"\\nData types present in file: %s\\n\" %file)\n",
        "  print(df.dtypes)\n",
        "  # looking at data types found in the dataframe\n",
        "\n",
        "  print(\"\\nNumber of rows and columns in file: %s\\n\" %file)\n",
        "  display(df.shape)\n",
        "  # Getting the size of the dataset\n",
        "\n",
        "  print(\"\\nNumber of unique values for each column in file: %s\\n\" %file)\n",
        "  display(df.nunique())\n",
        "  # Looking at number of unique values\n",
        "\n",
        "  print(\"\\nCount of missing values in file: %s\\n\" %file)\n",
        "  display(df.isnull().sum())\n",
        "  print(\"\")\n",
        "  # Counting the missing values in the datasets\n",
        "\n",
        "  for col in df.select_dtypes(include=np.number):\n",
        "    # Looping through numeric columns in data frame a\n",
        "      #print(\"Min for col %s = %s\" %(col, df[col].min()))\n",
        "      #print(\"Max for col %s = %s\" %(col, df[col].max()))\n",
        "    print(\"Numerical Stats for column - '%s' \" % col)\n",
        "    print(\"--------------------------------------------\")\n",
        "    (print(\"Min: %s Mean: %s\"\n",
        "           %(df[col].min(), df[col].mean() )))\n",
        "    print(\"Max: %s Median: %s\" %(df[col].max(), df[col].median()))\n",
        "    # Printing the minimum, maximum, mean and median\n",
        "\n",
        "    col_mode = df[col].value_counts().idxmax()\n",
        "    # get the most frequent value in the column\n",
        "    freq = df[col].value_counts()[col_mode]\n",
        "    # get the count of the most frequent value in the column\n",
        "\n",
        "    if freq > 1:\n",
        "      print(\"Most frequent value: %s found in column %s times.\\n\" %(col_mode,freq))\n",
        "    else:\n",
        "      print(\"No value repetitions found in column\\n\")\n",
        "      # Only returning the most frequent value if it appears more than once\n",
        "\n",
        "  for col in df.select_dtypes(include=object):\n",
        "      # Only looking at columns with strings now\n",
        "    print(\"Frequency counts for string column - '%s' \" % col)\n",
        "    print(\"--------------------------------------------------\")\n",
        "    col_mode = df[col].value_counts().idxmax()\n",
        "      # get the most frequent value in the column\n",
        "    freq = df[col].value_counts()[col_mode]\n",
        "      # get the count of the most frequent value in the column\n",
        "    if freq > 1:\n",
        "      (print(\"Most frequent string value: '%s' found in column %s times.\\n\"\n",
        "               %(col_mode,freq)))\n",
        "    else:\n",
        "      print(\"No value repetitions found in column\\n\")\n",
        "        # Only returning the most frequent value if it appears more than once\n",
        "\n",
        "data_file_explore('True.csv', True_df)\n",
        "data_file_explore('Fake.csv', Fake_df)\n"
      ],
      "metadata": {
        "colab": {
          "base_uri": "https://localhost:8080/",
          "height": 1000
        },
        "id": "WAQzVd7icbuf",
        "outputId": "41068cb4-b2d6-4f37-9ac0-5b64a47b5996"
      },
      "execution_count": 47,
      "outputs": [
        {
          "output_type": "stream",
          "name": "stdout",
          "text": [
            "Number of rows in True_df =  21417\n",
            "Number of rows in Fake_df =  23481\n",
            "Number of columns in True_df =  4\n",
            "Number of columns in Fake_df =  4\n",
            "List of columns in True_df ['title', 'text', 'subject', 'date']\n",
            "List of columns in False_df ['title', 'text', 'subject', 'date']\n",
            "*********************** FILE NAME: True.csv ***********************\n",
            "\n",
            "First five rows in file: True.csv\n",
            "\n"
          ]
        },
        {
          "output_type": "display_data",
          "data": {
            "text/plain": [
              "                                               title  \\\n",
              "0  As U.S. budget fight looms, Republicans flip t...   \n",
              "1  U.S. military to accept transgender recruits o...   \n",
              "2  Senior U.S. Republican senator: 'Let Mr. Muell...   \n",
              "3  FBI Russia probe helped by Australian diplomat...   \n",
              "4  Trump wants Postal Service to charge 'much mor...   \n",
              "\n",
              "                                                text       subject  \\\n",
              "0  WASHINGTON (Reuters) - The head of a conservat...  politicsNews   \n",
              "1  WASHINGTON (Reuters) - Transgender people will...  politicsNews   \n",
              "2  WASHINGTON (Reuters) - The special counsel inv...  politicsNews   \n",
              "3  WASHINGTON (Reuters) - Trump campaign adviser ...  politicsNews   \n",
              "4  SEATTLE/WASHINGTON (Reuters) - President Donal...  politicsNews   \n",
              "\n",
              "                 date  \n",
              "0  December 31, 2017   \n",
              "1  December 29, 2017   \n",
              "2  December 31, 2017   \n",
              "3  December 30, 2017   \n",
              "4  December 29, 2017   "
            ],
            "text/html": [
              "\n",
              "  <div id=\"df-c612621b-632d-4301-8c89-3ecfe8bf553f\">\n",
              "    <div class=\"colab-df-container\">\n",
              "      <div>\n",
              "<style scoped>\n",
              "    .dataframe tbody tr th:only-of-type {\n",
              "        vertical-align: middle;\n",
              "    }\n",
              "\n",
              "    .dataframe tbody tr th {\n",
              "        vertical-align: top;\n",
              "    }\n",
              "\n",
              "    .dataframe thead th {\n",
              "        text-align: right;\n",
              "    }\n",
              "</style>\n",
              "<table border=\"1\" class=\"dataframe\">\n",
              "  <thead>\n",
              "    <tr style=\"text-align: right;\">\n",
              "      <th></th>\n",
              "      <th>title</th>\n",
              "      <th>text</th>\n",
              "      <th>subject</th>\n",
              "      <th>date</th>\n",
              "    </tr>\n",
              "  </thead>\n",
              "  <tbody>\n",
              "    <tr>\n",
              "      <th>0</th>\n",
              "      <td>As U.S. budget fight looms, Republicans flip t...</td>\n",
              "      <td>WASHINGTON (Reuters) - The head of a conservat...</td>\n",
              "      <td>politicsNews</td>\n",
              "      <td>December 31, 2017</td>\n",
              "    </tr>\n",
              "    <tr>\n",
              "      <th>1</th>\n",
              "      <td>U.S. military to accept transgender recruits o...</td>\n",
              "      <td>WASHINGTON (Reuters) - Transgender people will...</td>\n",
              "      <td>politicsNews</td>\n",
              "      <td>December 29, 2017</td>\n",
              "    </tr>\n",
              "    <tr>\n",
              "      <th>2</th>\n",
              "      <td>Senior U.S. Republican senator: 'Let Mr. Muell...</td>\n",
              "      <td>WASHINGTON (Reuters) - The special counsel inv...</td>\n",
              "      <td>politicsNews</td>\n",
              "      <td>December 31, 2017</td>\n",
              "    </tr>\n",
              "    <tr>\n",
              "      <th>3</th>\n",
              "      <td>FBI Russia probe helped by Australian diplomat...</td>\n",
              "      <td>WASHINGTON (Reuters) - Trump campaign adviser ...</td>\n",
              "      <td>politicsNews</td>\n",
              "      <td>December 30, 2017</td>\n",
              "    </tr>\n",
              "    <tr>\n",
              "      <th>4</th>\n",
              "      <td>Trump wants Postal Service to charge 'much mor...</td>\n",
              "      <td>SEATTLE/WASHINGTON (Reuters) - President Donal...</td>\n",
              "      <td>politicsNews</td>\n",
              "      <td>December 29, 2017</td>\n",
              "    </tr>\n",
              "  </tbody>\n",
              "</table>\n",
              "</div>\n",
              "      <button class=\"colab-df-convert\" onclick=\"convertToInteractive('df-c612621b-632d-4301-8c89-3ecfe8bf553f')\"\n",
              "              title=\"Convert this dataframe to an interactive table.\"\n",
              "              style=\"display:none;\">\n",
              "        \n",
              "  <svg xmlns=\"http://www.w3.org/2000/svg\" height=\"24px\"viewBox=\"0 0 24 24\"\n",
              "       width=\"24px\">\n",
              "    <path d=\"M0 0h24v24H0V0z\" fill=\"none\"/>\n",
              "    <path d=\"M18.56 5.44l.94 2.06.94-2.06 2.06-.94-2.06-.94-.94-2.06-.94 2.06-2.06.94zm-11 1L8.5 8.5l.94-2.06 2.06-.94-2.06-.94L8.5 2.5l-.94 2.06-2.06.94zm10 10l.94 2.06.94-2.06 2.06-.94-2.06-.94-.94-2.06-.94 2.06-2.06.94z\"/><path d=\"M17.41 7.96l-1.37-1.37c-.4-.4-.92-.59-1.43-.59-.52 0-1.04.2-1.43.59L10.3 9.45l-7.72 7.72c-.78.78-.78 2.05 0 2.83L4 21.41c.39.39.9.59 1.41.59.51 0 1.02-.2 1.41-.59l7.78-7.78 2.81-2.81c.8-.78.8-2.07 0-2.86zM5.41 20L4 18.59l7.72-7.72 1.47 1.35L5.41 20z\"/>\n",
              "  </svg>\n",
              "      </button>\n",
              "      \n",
              "  <style>\n",
              "    .colab-df-container {\n",
              "      display:flex;\n",
              "      flex-wrap:wrap;\n",
              "      gap: 12px;\n",
              "    }\n",
              "\n",
              "    .colab-df-convert {\n",
              "      background-color: #E8F0FE;\n",
              "      border: none;\n",
              "      border-radius: 50%;\n",
              "      cursor: pointer;\n",
              "      display: none;\n",
              "      fill: #1967D2;\n",
              "      height: 32px;\n",
              "      padding: 0 0 0 0;\n",
              "      width: 32px;\n",
              "    }\n",
              "\n",
              "    .colab-df-convert:hover {\n",
              "      background-color: #E2EBFA;\n",
              "      box-shadow: 0px 1px 2px rgba(60, 64, 67, 0.3), 0px 1px 3px 1px rgba(60, 64, 67, 0.15);\n",
              "      fill: #174EA6;\n",
              "    }\n",
              "\n",
              "    [theme=dark] .colab-df-convert {\n",
              "      background-color: #3B4455;\n",
              "      fill: #D2E3FC;\n",
              "    }\n",
              "\n",
              "    [theme=dark] .colab-df-convert:hover {\n",
              "      background-color: #434B5C;\n",
              "      box-shadow: 0px 1px 3px 1px rgba(0, 0, 0, 0.15);\n",
              "      filter: drop-shadow(0px 1px 2px rgba(0, 0, 0, 0.3));\n",
              "      fill: #FFFFFF;\n",
              "    }\n",
              "  </style>\n",
              "\n",
              "      <script>\n",
              "        const buttonEl =\n",
              "          document.querySelector('#df-c612621b-632d-4301-8c89-3ecfe8bf553f button.colab-df-convert');\n",
              "        buttonEl.style.display =\n",
              "          google.colab.kernel.accessAllowed ? 'block' : 'none';\n",
              "\n",
              "        async function convertToInteractive(key) {\n",
              "          const element = document.querySelector('#df-c612621b-632d-4301-8c89-3ecfe8bf553f');\n",
              "          const dataTable =\n",
              "            await google.colab.kernel.invokeFunction('convertToInteractive',\n",
              "                                                     [key], {});\n",
              "          if (!dataTable) return;\n",
              "\n",
              "          const docLinkHtml = 'Like what you see? Visit the ' +\n",
              "            '<a target=\"_blank\" href=https://colab.research.google.com/notebooks/data_table.ipynb>data table notebook</a>'\n",
              "            + ' to learn more about interactive tables.';\n",
              "          element.innerHTML = '';\n",
              "          dataTable['output_type'] = 'display_data';\n",
              "          await google.colab.output.renderOutput(dataTable, element);\n",
              "          const docLink = document.createElement('div');\n",
              "          docLink.innerHTML = docLinkHtml;\n",
              "          element.appendChild(docLink);\n",
              "        }\n",
              "      </script>\n",
              "    </div>\n",
              "  </div>\n",
              "  "
            ]
          },
          "metadata": {}
        },
        {
          "output_type": "stream",
          "name": "stdout",
          "text": [
            "\n",
            "Data types present in file: True.csv\n",
            "\n",
            "title      object\n",
            "text       object\n",
            "subject    object\n",
            "date       object\n",
            "dtype: object\n",
            "\n",
            "Number of rows and columns in file: True.csv\n",
            "\n"
          ]
        },
        {
          "output_type": "display_data",
          "data": {
            "text/plain": [
              "(21417, 4)"
            ]
          },
          "metadata": {}
        },
        {
          "output_type": "stream",
          "name": "stdout",
          "text": [
            "\n",
            "Number of unique values for each column in file: True.csv\n",
            "\n"
          ]
        },
        {
          "output_type": "display_data",
          "data": {
            "text/plain": [
              "title      20826\n",
              "text       21192\n",
              "subject        2\n",
              "date         716\n",
              "dtype: int64"
            ]
          },
          "metadata": {}
        },
        {
          "output_type": "stream",
          "name": "stdout",
          "text": [
            "\n",
            "Count of missing values in file: True.csv\n",
            "\n"
          ]
        },
        {
          "output_type": "display_data",
          "data": {
            "text/plain": [
              "title      0\n",
              "text       0\n",
              "subject    0\n",
              "date       0\n",
              "dtype: int64"
            ]
          },
          "metadata": {}
        },
        {
          "output_type": "stream",
          "name": "stdout",
          "text": [
            "\n",
            "Frequency counts for string column - 'title' \n",
            "--------------------------------------------------\n",
            "Most frequent string value: 'Factbox: Trump fills top jobs for his administration' found in column 14 times.\n",
            "\n",
            "Frequency counts for string column - 'text' \n",
            "--------------------------------------------------\n",
            "Most frequent string value: '(Reuters) - Highlights for U.S. President Donald Trump’s administration on Thursday: The United States drops a massive GBU-43 bomb, the largest non-nuclear bomb it has ever used in combat, in Afghanistan against a series of caves used by Islamic State militants, the Pentagon says. Trump says Pyongyang is a problem that “will be taken care of” amid speculation that North Korea is on the verge of a sixth nuclear test. Military force cannot resolve tension over North Korea, China warns, while an influential Chinese newspaper urges Pyongyang to halt its nuclear program in exchange for Beijing’s protection. The Trump administration is focusing its North Korea strategy on tougher economic sanctions, possibly including intercepting cargo ships and punishing Chinese banks doing business with Pyongyang, U.S. officials say. Trump says “things will work out fine” between the United States and Russia, a day after declaring U.S.-Russian relations may be at an all-time low. Trump signals he could be moving closer to the mainstream on monetary policy, saying he has not ruled out reappointment of Janet Yellen as Federal Reserve chair as he considers his choices for the U.S. central bank. [nL1N1HL14B] Trump signs a resolution that will allow U.S. states to restrict how federal funds for contraception and reproductive health are spent, a move cheered by anti-abortion campaigners. Democratic Senator Chris Van Hollen presses Deutsche Bank to release information about issues including Trump’s debt and any bank meetings with Trump administration officials, saying he has “great concern” about possible conflicts of interest. EXPORT-IMPORT BANK Trump’s office says he plans to revive the hobbled Export-Import Bank of the United States, a victory for American manufacturers such as Boeing Co and General Electric Co that have overseas customers that use the agency’s government-backed loans to purchase their products. Top Wall Street bankers say they are having positive discussions about financial regulation in Washington, and downplay the idea U.S. policymakers may force their institutions to split up. The United States is pushing for trade to be a key issue in top-level economic talks with Japan, a source says, an unwelcome development for Tokyo, which is seeking to fend off U.S. pressure to reduce the bilateral trade imbalance. Trump’s administration has focused on one group of illegal immigrants more than others: women with children, according to eight Department of Homeland Security officials interviewed by Reuters about agency planning. ' found in column 8 times.\n",
            "\n",
            "Frequency counts for string column - 'subject' \n",
            "--------------------------------------------------\n",
            "Most frequent string value: 'politicsNews' found in column 11272 times.\n",
            "\n",
            "Frequency counts for string column - 'date' \n",
            "--------------------------------------------------\n",
            "Most frequent string value: 'December 20, 2017 ' found in column 182 times.\n",
            "\n",
            "*********************** FILE NAME: Fake.csv ***********************\n",
            "\n",
            "First five rows in file: Fake.csv\n",
            "\n"
          ]
        },
        {
          "output_type": "display_data",
          "data": {
            "text/plain": [
              "                                               title  \\\n",
              "0   Donald Trump Sends Out Embarrassing New Year’...   \n",
              "1   Drunk Bragging Trump Staffer Started Russian ...   \n",
              "2   Sheriff David Clarke Becomes An Internet Joke...   \n",
              "3   Trump Is So Obsessed He Even Has Obama’s Name...   \n",
              "4   Pope Francis Just Called Out Donald Trump Dur...   \n",
              "\n",
              "                                                text subject  \\\n",
              "0  Donald Trump just couldn t wish all Americans ...    News   \n",
              "1  House Intelligence Committee Chairman Devin Nu...    News   \n",
              "2  On Friday, it was revealed that former Milwauk...    News   \n",
              "3  On Christmas day, Donald Trump announced that ...    News   \n",
              "4  Pope Francis used his annual Christmas Day mes...    News   \n",
              "\n",
              "                date  \n",
              "0  December 31, 2017  \n",
              "1  December 31, 2017  \n",
              "2  December 30, 2017  \n",
              "3  December 29, 2017  \n",
              "4  December 25, 2017  "
            ],
            "text/html": [
              "\n",
              "  <div id=\"df-5c00a358-0d66-4d33-83aa-4ae6cd98f115\">\n",
              "    <div class=\"colab-df-container\">\n",
              "      <div>\n",
              "<style scoped>\n",
              "    .dataframe tbody tr th:only-of-type {\n",
              "        vertical-align: middle;\n",
              "    }\n",
              "\n",
              "    .dataframe tbody tr th {\n",
              "        vertical-align: top;\n",
              "    }\n",
              "\n",
              "    .dataframe thead th {\n",
              "        text-align: right;\n",
              "    }\n",
              "</style>\n",
              "<table border=\"1\" class=\"dataframe\">\n",
              "  <thead>\n",
              "    <tr style=\"text-align: right;\">\n",
              "      <th></th>\n",
              "      <th>title</th>\n",
              "      <th>text</th>\n",
              "      <th>subject</th>\n",
              "      <th>date</th>\n",
              "    </tr>\n",
              "  </thead>\n",
              "  <tbody>\n",
              "    <tr>\n",
              "      <th>0</th>\n",
              "      <td>Donald Trump Sends Out Embarrassing New Year’...</td>\n",
              "      <td>Donald Trump just couldn t wish all Americans ...</td>\n",
              "      <td>News</td>\n",
              "      <td>December 31, 2017</td>\n",
              "    </tr>\n",
              "    <tr>\n",
              "      <th>1</th>\n",
              "      <td>Drunk Bragging Trump Staffer Started Russian ...</td>\n",
              "      <td>House Intelligence Committee Chairman Devin Nu...</td>\n",
              "      <td>News</td>\n",
              "      <td>December 31, 2017</td>\n",
              "    </tr>\n",
              "    <tr>\n",
              "      <th>2</th>\n",
              "      <td>Sheriff David Clarke Becomes An Internet Joke...</td>\n",
              "      <td>On Friday, it was revealed that former Milwauk...</td>\n",
              "      <td>News</td>\n",
              "      <td>December 30, 2017</td>\n",
              "    </tr>\n",
              "    <tr>\n",
              "      <th>3</th>\n",
              "      <td>Trump Is So Obsessed He Even Has Obama’s Name...</td>\n",
              "      <td>On Christmas day, Donald Trump announced that ...</td>\n",
              "      <td>News</td>\n",
              "      <td>December 29, 2017</td>\n",
              "    </tr>\n",
              "    <tr>\n",
              "      <th>4</th>\n",
              "      <td>Pope Francis Just Called Out Donald Trump Dur...</td>\n",
              "      <td>Pope Francis used his annual Christmas Day mes...</td>\n",
              "      <td>News</td>\n",
              "      <td>December 25, 2017</td>\n",
              "    </tr>\n",
              "  </tbody>\n",
              "</table>\n",
              "</div>\n",
              "      <button class=\"colab-df-convert\" onclick=\"convertToInteractive('df-5c00a358-0d66-4d33-83aa-4ae6cd98f115')\"\n",
              "              title=\"Convert this dataframe to an interactive table.\"\n",
              "              style=\"display:none;\">\n",
              "        \n",
              "  <svg xmlns=\"http://www.w3.org/2000/svg\" height=\"24px\"viewBox=\"0 0 24 24\"\n",
              "       width=\"24px\">\n",
              "    <path d=\"M0 0h24v24H0V0z\" fill=\"none\"/>\n",
              "    <path d=\"M18.56 5.44l.94 2.06.94-2.06 2.06-.94-2.06-.94-.94-2.06-.94 2.06-2.06.94zm-11 1L8.5 8.5l.94-2.06 2.06-.94-2.06-.94L8.5 2.5l-.94 2.06-2.06.94zm10 10l.94 2.06.94-2.06 2.06-.94-2.06-.94-.94-2.06-.94 2.06-2.06.94z\"/><path d=\"M17.41 7.96l-1.37-1.37c-.4-.4-.92-.59-1.43-.59-.52 0-1.04.2-1.43.59L10.3 9.45l-7.72 7.72c-.78.78-.78 2.05 0 2.83L4 21.41c.39.39.9.59 1.41.59.51 0 1.02-.2 1.41-.59l7.78-7.78 2.81-2.81c.8-.78.8-2.07 0-2.86zM5.41 20L4 18.59l7.72-7.72 1.47 1.35L5.41 20z\"/>\n",
              "  </svg>\n",
              "      </button>\n",
              "      \n",
              "  <style>\n",
              "    .colab-df-container {\n",
              "      display:flex;\n",
              "      flex-wrap:wrap;\n",
              "      gap: 12px;\n",
              "    }\n",
              "\n",
              "    .colab-df-convert {\n",
              "      background-color: #E8F0FE;\n",
              "      border: none;\n",
              "      border-radius: 50%;\n",
              "      cursor: pointer;\n",
              "      display: none;\n",
              "      fill: #1967D2;\n",
              "      height: 32px;\n",
              "      padding: 0 0 0 0;\n",
              "      width: 32px;\n",
              "    }\n",
              "\n",
              "    .colab-df-convert:hover {\n",
              "      background-color: #E2EBFA;\n",
              "      box-shadow: 0px 1px 2px rgba(60, 64, 67, 0.3), 0px 1px 3px 1px rgba(60, 64, 67, 0.15);\n",
              "      fill: #174EA6;\n",
              "    }\n",
              "\n",
              "    [theme=dark] .colab-df-convert {\n",
              "      background-color: #3B4455;\n",
              "      fill: #D2E3FC;\n",
              "    }\n",
              "\n",
              "    [theme=dark] .colab-df-convert:hover {\n",
              "      background-color: #434B5C;\n",
              "      box-shadow: 0px 1px 3px 1px rgba(0, 0, 0, 0.15);\n",
              "      filter: drop-shadow(0px 1px 2px rgba(0, 0, 0, 0.3));\n",
              "      fill: #FFFFFF;\n",
              "    }\n",
              "  </style>\n",
              "\n",
              "      <script>\n",
              "        const buttonEl =\n",
              "          document.querySelector('#df-5c00a358-0d66-4d33-83aa-4ae6cd98f115 button.colab-df-convert');\n",
              "        buttonEl.style.display =\n",
              "          google.colab.kernel.accessAllowed ? 'block' : 'none';\n",
              "\n",
              "        async function convertToInteractive(key) {\n",
              "          const element = document.querySelector('#df-5c00a358-0d66-4d33-83aa-4ae6cd98f115');\n",
              "          const dataTable =\n",
              "            await google.colab.kernel.invokeFunction('convertToInteractive',\n",
              "                                                     [key], {});\n",
              "          if (!dataTable) return;\n",
              "\n",
              "          const docLinkHtml = 'Like what you see? Visit the ' +\n",
              "            '<a target=\"_blank\" href=https://colab.research.google.com/notebooks/data_table.ipynb>data table notebook</a>'\n",
              "            + ' to learn more about interactive tables.';\n",
              "          element.innerHTML = '';\n",
              "          dataTable['output_type'] = 'display_data';\n",
              "          await google.colab.output.renderOutput(dataTable, element);\n",
              "          const docLink = document.createElement('div');\n",
              "          docLink.innerHTML = docLinkHtml;\n",
              "          element.appendChild(docLink);\n",
              "        }\n",
              "      </script>\n",
              "    </div>\n",
              "  </div>\n",
              "  "
            ]
          },
          "metadata": {}
        },
        {
          "output_type": "stream",
          "name": "stdout",
          "text": [
            "\n",
            "Data types present in file: Fake.csv\n",
            "\n",
            "title      object\n",
            "text       object\n",
            "subject    object\n",
            "date       object\n",
            "dtype: object\n",
            "\n",
            "Number of rows and columns in file: Fake.csv\n",
            "\n"
          ]
        },
        {
          "output_type": "display_data",
          "data": {
            "text/plain": [
              "(23481, 4)"
            ]
          },
          "metadata": {}
        },
        {
          "output_type": "stream",
          "name": "stdout",
          "text": [
            "\n",
            "Number of unique values for each column in file: Fake.csv\n",
            "\n"
          ]
        },
        {
          "output_type": "display_data",
          "data": {
            "text/plain": [
              "title      17903\n",
              "text       17455\n",
              "subject        6\n",
              "date        1681\n",
              "dtype: int64"
            ]
          },
          "metadata": {}
        },
        {
          "output_type": "stream",
          "name": "stdout",
          "text": [
            "\n",
            "Count of missing values in file: Fake.csv\n",
            "\n"
          ]
        },
        {
          "output_type": "display_data",
          "data": {
            "text/plain": [
              "title      0\n",
              "text       0\n",
              "subject    0\n",
              "date       0\n",
              "dtype: int64"
            ]
          },
          "metadata": {}
        },
        {
          "output_type": "stream",
          "name": "stdout",
          "text": [
            "\n",
            "Frequency counts for string column - 'title' \n",
            "--------------------------------------------------\n",
            "Most frequent string value: 'MEDIA IGNORES Time That Bill Clinton FIRED His FBI Director On Day Before Vince Foster Was Found Dead' found in column 6 times.\n",
            "\n",
            "Frequency counts for string column - 'text' \n",
            "--------------------------------------------------\n",
            "Most frequent string value: ' ' found in column 626 times.\n",
            "\n",
            "Frequency counts for string column - 'subject' \n",
            "--------------------------------------------------\n",
            "Most frequent string value: 'News' found in column 9050 times.\n",
            "\n",
            "Frequency counts for string column - 'date' \n",
            "--------------------------------------------------\n",
            "Most frequent string value: 'May 10, 2017' found in column 46 times.\n",
            "\n"
          ]
        }
      ]
    },
    {
      "cell_type": "markdown",
      "source": [
        "## OVERVIEW OF DATA SETS\n",
        "\n",
        "A cursory glance at the data shows that there are no missing values in either data set and that both column types\n",
        "are the same along with matching data types. There are no numerical columns her, only text and dates. However, the author of the original project points out that the **True.csv** file  shows **WASHINGTON (Reuters) - ** or **SEATTLE/WASHINGTON (Reuters)** before the news articles. Also, there are **6** unique values for **'subject'** in the **Fake.csv** file and only **2** unique values for **'subject'** in the **True.csv**, which might cause the model while training the dataset to mainly look for these two things to determine whether the news article is fake. We will want to remove these things in order to ensure that it's not so obvious which one is which, and also ensure that the model will be able to work when classifying news stories that do not have this format, as one could then easily add the <Reuters> term to a fake news story, in order to trick the model into classifying it is as true."
      ],
      "metadata": {
        "id": "5IhAmdSkeT-f"
      }
    },
    {
      "cell_type": "code",
      "source": [
        "cnt = 0\n",
        "for row in True_df.index:\n",
        "  if \"(Reuters)\" in True_df.loc[row]['text']:\n",
        "     cnt = cnt + 1\n",
        "print(\"Count of rows in True_df containing term (Reuters) = %s\"% cnt )\n",
        "print(\"Number of rows in True_df data frame = \", True_df.shape[0])\n",
        "print(\"Percentage of rows in True_df containing (Reuters) = %s\"% (cnt/True_df.shape[0]*100) )\n",
        "print('')\n",
        "# Counting the number of instances that contain the string \"(Reuters)\" in True_df\n",
        "\n",
        "cnt = 0\n",
        "for row in Fake_df.index:\n",
        "  if \"(Reuters)\" in Fake_df.loc[row]['text']:\n",
        "     cnt = cnt + 1\n",
        "print(\"Count of rows in Fake_df containing term (Reuters) = %s\"% cnt )\n",
        "print(\"Number of rows in Fake_df data frame = \", Fake_df.shape[0])\n",
        "print(\"Percentage of rows in Fake_df containing (Reuters) = %s\"% (cnt/Fake_df.shape[0]*100) )\n",
        "# Counting the number of instances that contain the string \"(Reuters)\" in Fake_df"
      ],
      "metadata": {
        "colab": {
          "base_uri": "https://localhost:8080/"
        },
        "id": "pwsFWOkUefmv",
        "outputId": "be2f00d4-5951-4987-db7e-72f24338ea4d"
      },
      "execution_count": 48,
      "outputs": [
        {
          "output_type": "stream",
          "name": "stdout",
          "text": [
            "Count of rows in True_df containing term (Reuters) = 21247\n",
            "Number of rows in True_df data frame =  21417\n",
            "Percentage of rows in True_df containing (Reuters) = 99.20623803520567\n",
            "\n",
            "Count of rows in Fake_df containing term (Reuters) = 9\n",
            "Number of rows in Fake_df data frame =  23481\n",
            "Percentage of rows in Fake_df containing (Reuters) = 0.038328861632809505\n"
          ]
        }
      ]
    },
    {
      "cell_type": "markdown",
      "source": [
        "As the original author also pointed out, this is something that needs to be addressed with the data before putting it into the model, as one can clearly see that over **99%** of the **True_df** rows contain the term **'(Reuters)'** and under **4%** of the rows in Fake_df contain this term. Let us also look at the 'subjects' column."
      ],
      "metadata": {
        "id": "yz0B3b9Ketzw"
      }
    },
    {
      "cell_type": "code",
      "source": [
        "display(True_df['subject'].unique())\n",
        "display(Fake_df['subject'].unique())\n",
        "# looking at the unique values in the 'subjects' column"
      ],
      "metadata": {
        "colab": {
          "base_uri": "https://localhost:8080/",
          "height": 68
        },
        "id": "PYTs3clYexYi",
        "outputId": "5bf21342-22c9-42b2-c276-b3fb5ede1968"
      },
      "execution_count": 49,
      "outputs": [
        {
          "output_type": "display_data",
          "data": {
            "text/plain": [
              "array(['politicsNews', 'worldnews'], dtype=object)"
            ]
          },
          "metadata": {}
        },
        {
          "output_type": "display_data",
          "data": {
            "text/plain": [
              "array(['News', 'politics', 'Government News', 'left-news', 'US_News',\n",
              "       'Middle-east'], dtype=object)"
            ]
          },
          "metadata": {}
        }
      ]
    },
    {
      "cell_type": "markdown",
      "source": [
        "Using the **'subjects'** column in the model would be a dead give-away to the model as the unique values in the **Fake_df** and **True_df** are totally different and seeing one subject or the other would train the model to look for that subject when classifying the news article as real or fake.  Therefore, the text data needs to be pre-processed and the subject column needs to be removed as well. Also, in order to get a better look at just the text itself to see if a model can determine which class it belongs to, the date column will be removed as well."
      ],
      "metadata": {
        "id": "dfZlyJY4e0dQ"
      }
    },
    {
      "cell_type": "code",
      "source": [
        "def text_clean(string):\n",
        "  \"\"\"\n",
        "  This function removes this pattern \"^[A-Z/]+ \\(Reuters\\) - \"\n",
        "  from a text string\n",
        "  :param string: A single string\n",
        "  :return:  A single string with the pattern removed\n",
        "  \"\"\"\n",
        "  reuters_pattern = \"^[A-Z/]+ \\(Reuters\\) - \"\n",
        "  # String to remove at the start of True_df looks like\n",
        "  # WASHINGTON (Reuters) - so saving this pattern\n",
        "  return re.sub(reuters_pattern, \"\", string)\n",
        "##########################################################################\n",
        "test_string1 = True_df.loc[0]['text']\n",
        "print(\"String before text_clean function applied\\n\")\n",
        "print(test_string1)\n",
        "print('')\n",
        "# getting a test string to test function\n",
        "\n",
        "print(\"String after text_clean function applied\\n\")\n",
        "print(text_clean(test_string1))\n",
        "print('')\n",
        "# testing function to see if it removes string\n",
        "\n",
        "def df_pre_processor(df_t, df_f, Shuffle = True):\n",
        "  \"\"\" This is a basic pre-processing function that takes in\n",
        "  the two dataframes True_df and Fake_df, adds correct labels\n",
        "  to each, combines them, cleans the text column, removes unneeded\n",
        "  columns and shuffles the dataframe\n",
        "\n",
        "  :param df_t: a dataframe containing all true news articles\n",
        "  :param df_f: a dataframe containing all fake news articles\n",
        "  :param  Shuffle: bool = True\n",
        "  :return: a pre-processed data frame combined from df_t & df_f\n",
        "  \"\"\"\n",
        "  df_t['label'] = True\n",
        "  df_f['label'] = False\n",
        "  # adding correct labels to each\n",
        "\n",
        "  df = pd.concat([df_t, df_f], axis=0)\n",
        "  df['text'] = df['text'] .apply(text_clean)\n",
        "  # combining both data frames and\n",
        "  # applying text clean to the text column\n",
        "\n",
        "  df = df.drop([\"subject\", 'date'],axis = 1)\n",
        "  # removing two columns from df\n",
        "\n",
        "  if Shuffle:\n",
        "     df = shuffle(df).reset_index(drop=True)\n",
        "  # shuffles the dataframe before returning it\n",
        "  return df\n",
        "##########################################################################\n",
        "df_combined = df_pre_processor(True_df.copy(), Fake_df.copy())\n",
        "# putting both dataframes in pre-processing function\n",
        "display(df_combined.head())\n",
        "# looking at new data frame\n",
        "bool_test = True_df.shape[0] \\\n",
        "            + Fake_df.shape[0] \\\n",
        "            == df_combined.shape[0]\n",
        "print(\"Will print %sTrue%s if total rows are equal - %s\" % (\"'\",\"'\",bool_test))\n",
        "# checking to make sure new data frame has correct dimensions"
      ],
      "metadata": {
        "colab": {
          "base_uri": "https://localhost:8080/",
          "height": 377
        },
        "id": "FMKq7xp0e_CG",
        "outputId": "0d612fc0-ac2c-4f0f-d4e7-c08300ee2f1b"
      },
      "execution_count": 50,
      "outputs": [
        {
          "output_type": "stream",
          "name": "stdout",
          "text": [
            "String before text_clean function applied\n",
            "\n",
            "WASHINGTON (Reuters) - The head of a conservative Republican faction in the U.S. Congress, who voted this month for a huge expansion of the national debt to pay for tax cuts, called himself a “fiscal conservative” on Sunday and urged budget restraint in 2018. In keeping with a sharp pivot under way among Republicans, U.S. Representative Mark Meadows, speaking on CBS’ “Face the Nation,” drew a hard line on federal spending, which lawmakers are bracing to do battle over in January. When they return from the holidays on Wednesday, lawmakers will begin trying to pass a federal budget in a fight likely to be linked to other issues, such as immigration policy, even as the November congressional election campaigns approach in which Republicans will seek to keep control of Congress. President Donald Trump and his Republicans want a big budget increase in military spending, while Democrats also want proportional increases for non-defense “discretionary” spending on programs that support education, scientific research, infrastructure, public health and environmental protection. “The (Trump) administration has already been willing to say: ‘We’re going to increase non-defense discretionary spending ... by about 7 percent,’” Meadows, chairman of the small but influential House Freedom Caucus, said on the program. “Now, Democrats are saying that’s not enough, we need to give the government a pay raise of 10 to 11 percent. For a fiscal conservative, I don’t see where the rationale is. ... Eventually you run out of other people’s money,” he said. Meadows was among Republicans who voted in late December for their party’s debt-financed tax overhaul, which is expected to balloon the federal budget deficit and add about $1.5 trillion over 10 years to the $20 trillion national debt. “It’s interesting to hear Mark talk about fiscal responsibility,” Democratic U.S. Representative Joseph Crowley said on CBS. Crowley said the Republican tax bill would require the  United States to borrow $1.5 trillion, to be paid off by future generations, to finance tax cuts for corporations and the rich. “This is one of the least ... fiscally responsible bills we’ve ever seen passed in the history of the House of Representatives. I think we’re going to be paying for this for many, many years to come,” Crowley said. Republicans insist the tax package, the biggest U.S. tax overhaul in more than 30 years,  will boost the economy and job growth. House Speaker Paul Ryan, who also supported the tax bill, recently went further than Meadows, making clear in a radio interview that welfare or “entitlement reform,” as the party often calls it, would be a top Republican priority in 2018. In Republican parlance, “entitlement” programs mean food stamps, housing assistance, Medicare and Medicaid health insurance for the elderly, poor and disabled, as well as other programs created by Washington to assist the needy. Democrats seized on Ryan’s early December remarks, saying they showed Republicans would try to pay for their tax overhaul by seeking spending cuts for social programs. But the goals of House Republicans may have to take a back seat to the Senate, where the votes of some Democrats will be needed to approve a budget and prevent a government shutdown. Democrats will use their leverage in the Senate, which Republicans narrowly control, to defend both discretionary non-defense programs and social spending, while tackling the issue of the “Dreamers,” people brought illegally to the country as children. Trump in September put a March 2018 expiration date on the Deferred Action for Childhood Arrivals, or DACA, program, which protects the young immigrants from deportation and provides them with work permits. The president has said in recent Twitter messages he wants funding for his proposed Mexican border wall and other immigration law changes in exchange for agreeing to help the Dreamers. Representative Debbie Dingell told CBS she did not favor linking that issue to other policy objectives, such as wall funding. “We need to do DACA clean,” she said.  On Wednesday, Trump aides will meet with congressional leaders to discuss those issues. That will be followed by a weekend of strategy sessions for Trump and Republican leaders on Jan. 6 and 7, the White House said. Trump was also scheduled to meet on Sunday with Florida Republican Governor Rick Scott, who wants more emergency aid. The House has passed an $81 billion aid package after hurricanes in Florida, Texas and Puerto Rico, and wildfires in California. The package far exceeded the $44 billion requested by the Trump administration. The Senate has not yet voted on the aid. \n",
            "\n",
            "String after text_clean function applied\n",
            "\n",
            "The head of a conservative Republican faction in the U.S. Congress, who voted this month for a huge expansion of the national debt to pay for tax cuts, called himself a “fiscal conservative” on Sunday and urged budget restraint in 2018. In keeping with a sharp pivot under way among Republicans, U.S. Representative Mark Meadows, speaking on CBS’ “Face the Nation,” drew a hard line on federal spending, which lawmakers are bracing to do battle over in January. When they return from the holidays on Wednesday, lawmakers will begin trying to pass a federal budget in a fight likely to be linked to other issues, such as immigration policy, even as the November congressional election campaigns approach in which Republicans will seek to keep control of Congress. President Donald Trump and his Republicans want a big budget increase in military spending, while Democrats also want proportional increases for non-defense “discretionary” spending on programs that support education, scientific research, infrastructure, public health and environmental protection. “The (Trump) administration has already been willing to say: ‘We’re going to increase non-defense discretionary spending ... by about 7 percent,’” Meadows, chairman of the small but influential House Freedom Caucus, said on the program. “Now, Democrats are saying that’s not enough, we need to give the government a pay raise of 10 to 11 percent. For a fiscal conservative, I don’t see where the rationale is. ... Eventually you run out of other people’s money,” he said. Meadows was among Republicans who voted in late December for their party’s debt-financed tax overhaul, which is expected to balloon the federal budget deficit and add about $1.5 trillion over 10 years to the $20 trillion national debt. “It’s interesting to hear Mark talk about fiscal responsibility,” Democratic U.S. Representative Joseph Crowley said on CBS. Crowley said the Republican tax bill would require the  United States to borrow $1.5 trillion, to be paid off by future generations, to finance tax cuts for corporations and the rich. “This is one of the least ... fiscally responsible bills we’ve ever seen passed in the history of the House of Representatives. I think we’re going to be paying for this for many, many years to come,” Crowley said. Republicans insist the tax package, the biggest U.S. tax overhaul in more than 30 years,  will boost the economy and job growth. House Speaker Paul Ryan, who also supported the tax bill, recently went further than Meadows, making clear in a radio interview that welfare or “entitlement reform,” as the party often calls it, would be a top Republican priority in 2018. In Republican parlance, “entitlement” programs mean food stamps, housing assistance, Medicare and Medicaid health insurance for the elderly, poor and disabled, as well as other programs created by Washington to assist the needy. Democrats seized on Ryan’s early December remarks, saying they showed Republicans would try to pay for their tax overhaul by seeking spending cuts for social programs. But the goals of House Republicans may have to take a back seat to the Senate, where the votes of some Democrats will be needed to approve a budget and prevent a government shutdown. Democrats will use their leverage in the Senate, which Republicans narrowly control, to defend both discretionary non-defense programs and social spending, while tackling the issue of the “Dreamers,” people brought illegally to the country as children. Trump in September put a March 2018 expiration date on the Deferred Action for Childhood Arrivals, or DACA, program, which protects the young immigrants from deportation and provides them with work permits. The president has said in recent Twitter messages he wants funding for his proposed Mexican border wall and other immigration law changes in exchange for agreeing to help the Dreamers. Representative Debbie Dingell told CBS she did not favor linking that issue to other policy objectives, such as wall funding. “We need to do DACA clean,” she said.  On Wednesday, Trump aides will meet with congressional leaders to discuss those issues. That will be followed by a weekend of strategy sessions for Trump and Republican leaders on Jan. 6 and 7, the White House said. Trump was also scheduled to meet on Sunday with Florida Republican Governor Rick Scott, who wants more emergency aid. The House has passed an $81 billion aid package after hurricanes in Florida, Texas and Puerto Rico, and wildfires in California. The package far exceeded the $44 billion requested by the Trump administration. The Senate has not yet voted on the aid. \n",
            "\n"
          ]
        },
        {
          "output_type": "display_data",
          "data": {
            "text/plain": [
              "                                               title  \\\n",
              "0  FACEBOOK USER ARRESTED FOR “Offensive” Posts A...   \n",
              "1  Republicans may be on verge of losing U.S. Sen...   \n",
              "2  Turkey threatens sanctions over Kurdish indepe...   \n",
              "3  EU embassies urge Romania to rethink judicial ...   \n",
              "4  U.S. says strategy on North Korea centers on s...   \n",
              "\n",
              "                                                text  label  \n",
              "0  Only months ago, Obama s Attorney General, Lor...  False  \n",
              "1  The Republican Party’s two-year run in the maj...   True  \n",
              "2  HABUR BORDER CROSSING, Turkey (Reuters) - Turk...   True  \n",
              "3  Seven European Union states urged Romania s ru...   True  \n",
              "4  U.S. President Donald Trump’s strategy on Nort...   True  "
            ],
            "text/html": [
              "\n",
              "  <div id=\"df-e254d61b-627f-4a56-b1df-75402daffbc0\">\n",
              "    <div class=\"colab-df-container\">\n",
              "      <div>\n",
              "<style scoped>\n",
              "    .dataframe tbody tr th:only-of-type {\n",
              "        vertical-align: middle;\n",
              "    }\n",
              "\n",
              "    .dataframe tbody tr th {\n",
              "        vertical-align: top;\n",
              "    }\n",
              "\n",
              "    .dataframe thead th {\n",
              "        text-align: right;\n",
              "    }\n",
              "</style>\n",
              "<table border=\"1\" class=\"dataframe\">\n",
              "  <thead>\n",
              "    <tr style=\"text-align: right;\">\n",
              "      <th></th>\n",
              "      <th>title</th>\n",
              "      <th>text</th>\n",
              "      <th>label</th>\n",
              "    </tr>\n",
              "  </thead>\n",
              "  <tbody>\n",
              "    <tr>\n",
              "      <th>0</th>\n",
              "      <td>FACEBOOK USER ARRESTED FOR “Offensive” Posts A...</td>\n",
              "      <td>Only months ago, Obama s Attorney General, Lor...</td>\n",
              "      <td>False</td>\n",
              "    </tr>\n",
              "    <tr>\n",
              "      <th>1</th>\n",
              "      <td>Republicans may be on verge of losing U.S. Sen...</td>\n",
              "      <td>The Republican Party’s two-year run in the maj...</td>\n",
              "      <td>True</td>\n",
              "    </tr>\n",
              "    <tr>\n",
              "      <th>2</th>\n",
              "      <td>Turkey threatens sanctions over Kurdish indepe...</td>\n",
              "      <td>HABUR BORDER CROSSING, Turkey (Reuters) - Turk...</td>\n",
              "      <td>True</td>\n",
              "    </tr>\n",
              "    <tr>\n",
              "      <th>3</th>\n",
              "      <td>EU embassies urge Romania to rethink judicial ...</td>\n",
              "      <td>Seven European Union states urged Romania s ru...</td>\n",
              "      <td>True</td>\n",
              "    </tr>\n",
              "    <tr>\n",
              "      <th>4</th>\n",
              "      <td>U.S. says strategy on North Korea centers on s...</td>\n",
              "      <td>U.S. President Donald Trump’s strategy on Nort...</td>\n",
              "      <td>True</td>\n",
              "    </tr>\n",
              "  </tbody>\n",
              "</table>\n",
              "</div>\n",
              "      <button class=\"colab-df-convert\" onclick=\"convertToInteractive('df-e254d61b-627f-4a56-b1df-75402daffbc0')\"\n",
              "              title=\"Convert this dataframe to an interactive table.\"\n",
              "              style=\"display:none;\">\n",
              "        \n",
              "  <svg xmlns=\"http://www.w3.org/2000/svg\" height=\"24px\"viewBox=\"0 0 24 24\"\n",
              "       width=\"24px\">\n",
              "    <path d=\"M0 0h24v24H0V0z\" fill=\"none\"/>\n",
              "    <path d=\"M18.56 5.44l.94 2.06.94-2.06 2.06-.94-2.06-.94-.94-2.06-.94 2.06-2.06.94zm-11 1L8.5 8.5l.94-2.06 2.06-.94-2.06-.94L8.5 2.5l-.94 2.06-2.06.94zm10 10l.94 2.06.94-2.06 2.06-.94-2.06-.94-.94-2.06-.94 2.06-2.06.94z\"/><path d=\"M17.41 7.96l-1.37-1.37c-.4-.4-.92-.59-1.43-.59-.52 0-1.04.2-1.43.59L10.3 9.45l-7.72 7.72c-.78.78-.78 2.05 0 2.83L4 21.41c.39.39.9.59 1.41.59.51 0 1.02-.2 1.41-.59l7.78-7.78 2.81-2.81c.8-.78.8-2.07 0-2.86zM5.41 20L4 18.59l7.72-7.72 1.47 1.35L5.41 20z\"/>\n",
              "  </svg>\n",
              "      </button>\n",
              "      \n",
              "  <style>\n",
              "    .colab-df-container {\n",
              "      display:flex;\n",
              "      flex-wrap:wrap;\n",
              "      gap: 12px;\n",
              "    }\n",
              "\n",
              "    .colab-df-convert {\n",
              "      background-color: #E8F0FE;\n",
              "      border: none;\n",
              "      border-radius: 50%;\n",
              "      cursor: pointer;\n",
              "      display: none;\n",
              "      fill: #1967D2;\n",
              "      height: 32px;\n",
              "      padding: 0 0 0 0;\n",
              "      width: 32px;\n",
              "    }\n",
              "\n",
              "    .colab-df-convert:hover {\n",
              "      background-color: #E2EBFA;\n",
              "      box-shadow: 0px 1px 2px rgba(60, 64, 67, 0.3), 0px 1px 3px 1px rgba(60, 64, 67, 0.15);\n",
              "      fill: #174EA6;\n",
              "    }\n",
              "\n",
              "    [theme=dark] .colab-df-convert {\n",
              "      background-color: #3B4455;\n",
              "      fill: #D2E3FC;\n",
              "    }\n",
              "\n",
              "    [theme=dark] .colab-df-convert:hover {\n",
              "      background-color: #434B5C;\n",
              "      box-shadow: 0px 1px 3px 1px rgba(0, 0, 0, 0.15);\n",
              "      filter: drop-shadow(0px 1px 2px rgba(0, 0, 0, 0.3));\n",
              "      fill: #FFFFFF;\n",
              "    }\n",
              "  </style>\n",
              "\n",
              "      <script>\n",
              "        const buttonEl =\n",
              "          document.querySelector('#df-e254d61b-627f-4a56-b1df-75402daffbc0 button.colab-df-convert');\n",
              "        buttonEl.style.display =\n",
              "          google.colab.kernel.accessAllowed ? 'block' : 'none';\n",
              "\n",
              "        async function convertToInteractive(key) {\n",
              "          const element = document.querySelector('#df-e254d61b-627f-4a56-b1df-75402daffbc0');\n",
              "          const dataTable =\n",
              "            await google.colab.kernel.invokeFunction('convertToInteractive',\n",
              "                                                     [key], {});\n",
              "          if (!dataTable) return;\n",
              "\n",
              "          const docLinkHtml = 'Like what you see? Visit the ' +\n",
              "            '<a target=\"_blank\" href=https://colab.research.google.com/notebooks/data_table.ipynb>data table notebook</a>'\n",
              "            + ' to learn more about interactive tables.';\n",
              "          element.innerHTML = '';\n",
              "          dataTable['output_type'] = 'display_data';\n",
              "          await google.colab.output.renderOutput(dataTable, element);\n",
              "          const docLink = document.createElement('div');\n",
              "          docLink.innerHTML = docLinkHtml;\n",
              "          element.appendChild(docLink);\n",
              "        }\n",
              "      </script>\n",
              "    </div>\n",
              "  </div>\n",
              "  "
            ]
          },
          "metadata": {}
        },
        {
          "output_type": "stream",
          "name": "stdout",
          "text": [
            "Will print 'True' if total rows are equal - True\n"
          ]
        }
      ]
    },
    {
      "cell_type": "markdown",
      "source": [
        "We now have a dataframe that can be used for the next steps. Our next step is to separate the data in train and test sections and the labels will need to be separated as well.  "
      ],
      "metadata": {
        "id": "5XsL_UV2f-zT"
      }
    },
    {
      "cell_type": "code",
      "source": [
        "columns_list = df_combined.columns[::].tolist()\n",
        "columns_list.remove('label')\n",
        "# saving columns list for features minus label\n",
        "train_x, test_x, train_y, test_y = train_test_split(df_combined[columns_list],\n",
        "                                                    df_combined['label'],\n",
        "                                                    test_size=0.2,\n",
        "                                                    random_state=5)\n",
        "# Splitting data in train and test groups\n",
        "display(train_x)\n",
        "display(train_y)\n",
        "display(test_x)\n",
        "display(test_y)"
      ],
      "metadata": {
        "colab": {
          "base_uri": "https://localhost:8080/",
          "height": 1000
        },
        "id": "ksdqxrKFf_Ua",
        "outputId": "28cff183-c0b3-4049-df4f-6bc378cdbbd0"
      },
      "execution_count": 62,
      "outputs": [
        {
          "output_type": "display_data",
          "data": {
            "text/plain": [
              "                                                   title  \\\n",
              "41124  WATCH: MEGYN KELLY HUMILIATES HERSELF (AGAIN)…...   \n",
              "22642   Student Haz A Sad After Everyone Mocks Him Fo...   \n",
              "5161   Exclusive: U.S. group Sierra Club seeks probe ...   \n",
              "25434   The Internet Drags Trump’s Son For Saying ‘Th...   \n",
              "2009   South Africa's Dlamini-Zuma, ANC leadership co...   \n",
              "...                                                  ...   \n",
              "5520   White House seen easing limits on drone strike...   \n",
              "35814  Chelsea Manning says she was denied entry to C...   \n",
              "20463  Trump aides, lawmakers hold talks to revive he...   \n",
              "18638  LADY IN RED: Watch President Trump and Our Stu...   \n",
              "35683  Google supports U.S. efforts to disclose buyer...   \n",
              "\n",
              "                                                    text  \n",
              "41124    One day after actress Debra Messing revealed...  \n",
              "22642  Now, typically no one should be mocking a teen...  \n",
              "5161   NEW YORK (Reuters) - U.S. environmental group ...  \n",
              "25434  In the wake of Tom Koppel telling Sean Hannity...  \n",
              "2009   South African veteran politician and anti-apar...  \n",
              "...                                                  ...  \n",
              "5520   The Trump administration is preparing to relax...  \n",
              "35814  Chelsea Manning was turned back at the Canadia...  \n",
              "20463  Top White House officials met moderate and con...  \n",
              "18638  A stunning Melania Trump accompanied President...  \n",
              "35683  SAN FRANCISCO (Reuters) - Alphabet Inc’s Googl...  \n",
              "\n",
              "[35918 rows x 2 columns]"
            ],
            "text/html": [
              "\n",
              "  <div id=\"df-f71c5dc3-e114-4a73-96da-2c5019f77034\">\n",
              "    <div class=\"colab-df-container\">\n",
              "      <div>\n",
              "<style scoped>\n",
              "    .dataframe tbody tr th:only-of-type {\n",
              "        vertical-align: middle;\n",
              "    }\n",
              "\n",
              "    .dataframe tbody tr th {\n",
              "        vertical-align: top;\n",
              "    }\n",
              "\n",
              "    .dataframe thead th {\n",
              "        text-align: right;\n",
              "    }\n",
              "</style>\n",
              "<table border=\"1\" class=\"dataframe\">\n",
              "  <thead>\n",
              "    <tr style=\"text-align: right;\">\n",
              "      <th></th>\n",
              "      <th>title</th>\n",
              "      <th>text</th>\n",
              "    </tr>\n",
              "  </thead>\n",
              "  <tbody>\n",
              "    <tr>\n",
              "      <th>41124</th>\n",
              "      <td>WATCH: MEGYN KELLY HUMILIATES HERSELF (AGAIN)…...</td>\n",
              "      <td>One day after actress Debra Messing revealed...</td>\n",
              "    </tr>\n",
              "    <tr>\n",
              "      <th>22642</th>\n",
              "      <td>Student Haz A Sad After Everyone Mocks Him Fo...</td>\n",
              "      <td>Now, typically no one should be mocking a teen...</td>\n",
              "    </tr>\n",
              "    <tr>\n",
              "      <th>5161</th>\n",
              "      <td>Exclusive: U.S. group Sierra Club seeks probe ...</td>\n",
              "      <td>NEW YORK (Reuters) - U.S. environmental group ...</td>\n",
              "    </tr>\n",
              "    <tr>\n",
              "      <th>25434</th>\n",
              "      <td>The Internet Drags Trump’s Son For Saying ‘Th...</td>\n",
              "      <td>In the wake of Tom Koppel telling Sean Hannity...</td>\n",
              "    </tr>\n",
              "    <tr>\n",
              "      <th>2009</th>\n",
              "      <td>South Africa's Dlamini-Zuma, ANC leadership co...</td>\n",
              "      <td>South African veteran politician and anti-apar...</td>\n",
              "    </tr>\n",
              "    <tr>\n",
              "      <th>...</th>\n",
              "      <td>...</td>\n",
              "      <td>...</td>\n",
              "    </tr>\n",
              "    <tr>\n",
              "      <th>5520</th>\n",
              "      <td>White House seen easing limits on drone strike...</td>\n",
              "      <td>The Trump administration is preparing to relax...</td>\n",
              "    </tr>\n",
              "    <tr>\n",
              "      <th>35814</th>\n",
              "      <td>Chelsea Manning says she was denied entry to C...</td>\n",
              "      <td>Chelsea Manning was turned back at the Canadia...</td>\n",
              "    </tr>\n",
              "    <tr>\n",
              "      <th>20463</th>\n",
              "      <td>Trump aides, lawmakers hold talks to revive he...</td>\n",
              "      <td>Top White House officials met moderate and con...</td>\n",
              "    </tr>\n",
              "    <tr>\n",
              "      <th>18638</th>\n",
              "      <td>LADY IN RED: Watch President Trump and Our Stu...</td>\n",
              "      <td>A stunning Melania Trump accompanied President...</td>\n",
              "    </tr>\n",
              "    <tr>\n",
              "      <th>35683</th>\n",
              "      <td>Google supports U.S. efforts to disclose buyer...</td>\n",
              "      <td>SAN FRANCISCO (Reuters) - Alphabet Inc’s Googl...</td>\n",
              "    </tr>\n",
              "  </tbody>\n",
              "</table>\n",
              "<p>35918 rows × 2 columns</p>\n",
              "</div>\n",
              "      <button class=\"colab-df-convert\" onclick=\"convertToInteractive('df-f71c5dc3-e114-4a73-96da-2c5019f77034')\"\n",
              "              title=\"Convert this dataframe to an interactive table.\"\n",
              "              style=\"display:none;\">\n",
              "        \n",
              "  <svg xmlns=\"http://www.w3.org/2000/svg\" height=\"24px\"viewBox=\"0 0 24 24\"\n",
              "       width=\"24px\">\n",
              "    <path d=\"M0 0h24v24H0V0z\" fill=\"none\"/>\n",
              "    <path d=\"M18.56 5.44l.94 2.06.94-2.06 2.06-.94-2.06-.94-.94-2.06-.94 2.06-2.06.94zm-11 1L8.5 8.5l.94-2.06 2.06-.94-2.06-.94L8.5 2.5l-.94 2.06-2.06.94zm10 10l.94 2.06.94-2.06 2.06-.94-2.06-.94-.94-2.06-.94 2.06-2.06.94z\"/><path d=\"M17.41 7.96l-1.37-1.37c-.4-.4-.92-.59-1.43-.59-.52 0-1.04.2-1.43.59L10.3 9.45l-7.72 7.72c-.78.78-.78 2.05 0 2.83L4 21.41c.39.39.9.59 1.41.59.51 0 1.02-.2 1.41-.59l7.78-7.78 2.81-2.81c.8-.78.8-2.07 0-2.86zM5.41 20L4 18.59l7.72-7.72 1.47 1.35L5.41 20z\"/>\n",
              "  </svg>\n",
              "      </button>\n",
              "      \n",
              "  <style>\n",
              "    .colab-df-container {\n",
              "      display:flex;\n",
              "      flex-wrap:wrap;\n",
              "      gap: 12px;\n",
              "    }\n",
              "\n",
              "    .colab-df-convert {\n",
              "      background-color: #E8F0FE;\n",
              "      border: none;\n",
              "      border-radius: 50%;\n",
              "      cursor: pointer;\n",
              "      display: none;\n",
              "      fill: #1967D2;\n",
              "      height: 32px;\n",
              "      padding: 0 0 0 0;\n",
              "      width: 32px;\n",
              "    }\n",
              "\n",
              "    .colab-df-convert:hover {\n",
              "      background-color: #E2EBFA;\n",
              "      box-shadow: 0px 1px 2px rgba(60, 64, 67, 0.3), 0px 1px 3px 1px rgba(60, 64, 67, 0.15);\n",
              "      fill: #174EA6;\n",
              "    }\n",
              "\n",
              "    [theme=dark] .colab-df-convert {\n",
              "      background-color: #3B4455;\n",
              "      fill: #D2E3FC;\n",
              "    }\n",
              "\n",
              "    [theme=dark] .colab-df-convert:hover {\n",
              "      background-color: #434B5C;\n",
              "      box-shadow: 0px 1px 3px 1px rgba(0, 0, 0, 0.15);\n",
              "      filter: drop-shadow(0px 1px 2px rgba(0, 0, 0, 0.3));\n",
              "      fill: #FFFFFF;\n",
              "    }\n",
              "  </style>\n",
              "\n",
              "      <script>\n",
              "        const buttonEl =\n",
              "          document.querySelector('#df-f71c5dc3-e114-4a73-96da-2c5019f77034 button.colab-df-convert');\n",
              "        buttonEl.style.display =\n",
              "          google.colab.kernel.accessAllowed ? 'block' : 'none';\n",
              "\n",
              "        async function convertToInteractive(key) {\n",
              "          const element = document.querySelector('#df-f71c5dc3-e114-4a73-96da-2c5019f77034');\n",
              "          const dataTable =\n",
              "            await google.colab.kernel.invokeFunction('convertToInteractive',\n",
              "                                                     [key], {});\n",
              "          if (!dataTable) return;\n",
              "\n",
              "          const docLinkHtml = 'Like what you see? Visit the ' +\n",
              "            '<a target=\"_blank\" href=https://colab.research.google.com/notebooks/data_table.ipynb>data table notebook</a>'\n",
              "            + ' to learn more about interactive tables.';\n",
              "          element.innerHTML = '';\n",
              "          dataTable['output_type'] = 'display_data';\n",
              "          await google.colab.output.renderOutput(dataTable, element);\n",
              "          const docLink = document.createElement('div');\n",
              "          docLink.innerHTML = docLinkHtml;\n",
              "          element.appendChild(docLink);\n",
              "        }\n",
              "      </script>\n",
              "    </div>\n",
              "  </div>\n",
              "  "
            ]
          },
          "metadata": {}
        },
        {
          "output_type": "display_data",
          "data": {
            "text/plain": [
              "41124    False\n",
              "22642    False\n",
              "5161      True\n",
              "25434    False\n",
              "2009      True\n",
              "         ...  \n",
              "5520      True\n",
              "35814     True\n",
              "20463     True\n",
              "18638    False\n",
              "35683     True\n",
              "Name: label, Length: 35918, dtype: bool"
            ]
          },
          "metadata": {}
        },
        {
          "output_type": "display_data",
          "data": {
            "text/plain": [
              "                                                   title  \\\n",
              "10128  Trump says hopes for Cuban 'freedom' after Cas...   \n",
              "43165  Trump taps net neutrality opponent Ajit Pai to...   \n",
              "14627  Michigan state House approves carrying conceal...   \n",
              "17654   CO GOP Swears Racist Anti-Obama Pic Was A Hac...   \n",
              "28412  (VIDEO) MINE OWNER HAMMERS EPA ON TOXIC SPILL ...   \n",
              "...                                                  ...   \n",
              "16304  Divided Catalans prepare to vote in close-run ...   \n",
              "24306  Senate kills rule meant to protect family plan...   \n",
              "44244  CAR TORCHED AND SPRAYED WITH “F*CK TRUMP” Beca...   \n",
              "27014  U.S. lawmakers accuse Russia of seeking to inf...   \n",
              "4424    Jill Stein Inexplicably Blames The Democrats ...   \n",
              "\n",
              "                                                    text  \n",
              "10128  WEST PALM BEACH, Fla. (Reuters) - U.S. Preside...  \n",
              "43165  President Donald Trump on Monday tapped Republ...  \n",
              "14627  (Reuters) - Legislation to allow Michigan gun ...  \n",
              "17654  The Colorado GOP needs to get their stories st...  \n",
              "28412  Gold King Mine Owner Todd Hennis says he warne...  \n",
              "...                                                  ...  \n",
              "16304  VIC/CERDANYOLA DEL VALLES, Spain (Reuters) - C...  \n",
              "24306  For the second time on Thursday, Vice Presiden...  \n",
              "44244  THE VICTIM SPEAKS OUT   THIS IS SHAMEFUL! KPTV...  \n",
              "27014  The top Democrats on the U.S. Senate and House...  \n",
              "4424   On Saturday, Green Party candidate Jill Stein ...  \n",
              "\n",
              "[8980 rows x 2 columns]"
            ],
            "text/html": [
              "\n",
              "  <div id=\"df-0ccc6dbe-c346-4e89-89e1-579486b06277\">\n",
              "    <div class=\"colab-df-container\">\n",
              "      <div>\n",
              "<style scoped>\n",
              "    .dataframe tbody tr th:only-of-type {\n",
              "        vertical-align: middle;\n",
              "    }\n",
              "\n",
              "    .dataframe tbody tr th {\n",
              "        vertical-align: top;\n",
              "    }\n",
              "\n",
              "    .dataframe thead th {\n",
              "        text-align: right;\n",
              "    }\n",
              "</style>\n",
              "<table border=\"1\" class=\"dataframe\">\n",
              "  <thead>\n",
              "    <tr style=\"text-align: right;\">\n",
              "      <th></th>\n",
              "      <th>title</th>\n",
              "      <th>text</th>\n",
              "    </tr>\n",
              "  </thead>\n",
              "  <tbody>\n",
              "    <tr>\n",
              "      <th>10128</th>\n",
              "      <td>Trump says hopes for Cuban 'freedom' after Cas...</td>\n",
              "      <td>WEST PALM BEACH, Fla. (Reuters) - U.S. Preside...</td>\n",
              "    </tr>\n",
              "    <tr>\n",
              "      <th>43165</th>\n",
              "      <td>Trump taps net neutrality opponent Ajit Pai to...</td>\n",
              "      <td>President Donald Trump on Monday tapped Republ...</td>\n",
              "    </tr>\n",
              "    <tr>\n",
              "      <th>14627</th>\n",
              "      <td>Michigan state House approves carrying conceal...</td>\n",
              "      <td>(Reuters) - Legislation to allow Michigan gun ...</td>\n",
              "    </tr>\n",
              "    <tr>\n",
              "      <th>17654</th>\n",
              "      <td>CO GOP Swears Racist Anti-Obama Pic Was A Hac...</td>\n",
              "      <td>The Colorado GOP needs to get their stories st...</td>\n",
              "    </tr>\n",
              "    <tr>\n",
              "      <th>28412</th>\n",
              "      <td>(VIDEO) MINE OWNER HAMMERS EPA ON TOXIC SPILL ...</td>\n",
              "      <td>Gold King Mine Owner Todd Hennis says he warne...</td>\n",
              "    </tr>\n",
              "    <tr>\n",
              "      <th>...</th>\n",
              "      <td>...</td>\n",
              "      <td>...</td>\n",
              "    </tr>\n",
              "    <tr>\n",
              "      <th>16304</th>\n",
              "      <td>Divided Catalans prepare to vote in close-run ...</td>\n",
              "      <td>VIC/CERDANYOLA DEL VALLES, Spain (Reuters) - C...</td>\n",
              "    </tr>\n",
              "    <tr>\n",
              "      <th>24306</th>\n",
              "      <td>Senate kills rule meant to protect family plan...</td>\n",
              "      <td>For the second time on Thursday, Vice Presiden...</td>\n",
              "    </tr>\n",
              "    <tr>\n",
              "      <th>44244</th>\n",
              "      <td>CAR TORCHED AND SPRAYED WITH “F*CK TRUMP” Beca...</td>\n",
              "      <td>THE VICTIM SPEAKS OUT   THIS IS SHAMEFUL! KPTV...</td>\n",
              "    </tr>\n",
              "    <tr>\n",
              "      <th>27014</th>\n",
              "      <td>U.S. lawmakers accuse Russia of seeking to inf...</td>\n",
              "      <td>The top Democrats on the U.S. Senate and House...</td>\n",
              "    </tr>\n",
              "    <tr>\n",
              "      <th>4424</th>\n",
              "      <td>Jill Stein Inexplicably Blames The Democrats ...</td>\n",
              "      <td>On Saturday, Green Party candidate Jill Stein ...</td>\n",
              "    </tr>\n",
              "  </tbody>\n",
              "</table>\n",
              "<p>8980 rows × 2 columns</p>\n",
              "</div>\n",
              "      <button class=\"colab-df-convert\" onclick=\"convertToInteractive('df-0ccc6dbe-c346-4e89-89e1-579486b06277')\"\n",
              "              title=\"Convert this dataframe to an interactive table.\"\n",
              "              style=\"display:none;\">\n",
              "        \n",
              "  <svg xmlns=\"http://www.w3.org/2000/svg\" height=\"24px\"viewBox=\"0 0 24 24\"\n",
              "       width=\"24px\">\n",
              "    <path d=\"M0 0h24v24H0V0z\" fill=\"none\"/>\n",
              "    <path d=\"M18.56 5.44l.94 2.06.94-2.06 2.06-.94-2.06-.94-.94-2.06-.94 2.06-2.06.94zm-11 1L8.5 8.5l.94-2.06 2.06-.94-2.06-.94L8.5 2.5l-.94 2.06-2.06.94zm10 10l.94 2.06.94-2.06 2.06-.94-2.06-.94-.94-2.06-.94 2.06-2.06.94z\"/><path d=\"M17.41 7.96l-1.37-1.37c-.4-.4-.92-.59-1.43-.59-.52 0-1.04.2-1.43.59L10.3 9.45l-7.72 7.72c-.78.78-.78 2.05 0 2.83L4 21.41c.39.39.9.59 1.41.59.51 0 1.02-.2 1.41-.59l7.78-7.78 2.81-2.81c.8-.78.8-2.07 0-2.86zM5.41 20L4 18.59l7.72-7.72 1.47 1.35L5.41 20z\"/>\n",
              "  </svg>\n",
              "      </button>\n",
              "      \n",
              "  <style>\n",
              "    .colab-df-container {\n",
              "      display:flex;\n",
              "      flex-wrap:wrap;\n",
              "      gap: 12px;\n",
              "    }\n",
              "\n",
              "    .colab-df-convert {\n",
              "      background-color: #E8F0FE;\n",
              "      border: none;\n",
              "      border-radius: 50%;\n",
              "      cursor: pointer;\n",
              "      display: none;\n",
              "      fill: #1967D2;\n",
              "      height: 32px;\n",
              "      padding: 0 0 0 0;\n",
              "      width: 32px;\n",
              "    }\n",
              "\n",
              "    .colab-df-convert:hover {\n",
              "      background-color: #E2EBFA;\n",
              "      box-shadow: 0px 1px 2px rgba(60, 64, 67, 0.3), 0px 1px 3px 1px rgba(60, 64, 67, 0.15);\n",
              "      fill: #174EA6;\n",
              "    }\n",
              "\n",
              "    [theme=dark] .colab-df-convert {\n",
              "      background-color: #3B4455;\n",
              "      fill: #D2E3FC;\n",
              "    }\n",
              "\n",
              "    [theme=dark] .colab-df-convert:hover {\n",
              "      background-color: #434B5C;\n",
              "      box-shadow: 0px 1px 3px 1px rgba(0, 0, 0, 0.15);\n",
              "      filter: drop-shadow(0px 1px 2px rgba(0, 0, 0, 0.3));\n",
              "      fill: #FFFFFF;\n",
              "    }\n",
              "  </style>\n",
              "\n",
              "      <script>\n",
              "        const buttonEl =\n",
              "          document.querySelector('#df-0ccc6dbe-c346-4e89-89e1-579486b06277 button.colab-df-convert');\n",
              "        buttonEl.style.display =\n",
              "          google.colab.kernel.accessAllowed ? 'block' : 'none';\n",
              "\n",
              "        async function convertToInteractive(key) {\n",
              "          const element = document.querySelector('#df-0ccc6dbe-c346-4e89-89e1-579486b06277');\n",
              "          const dataTable =\n",
              "            await google.colab.kernel.invokeFunction('convertToInteractive',\n",
              "                                                     [key], {});\n",
              "          if (!dataTable) return;\n",
              "\n",
              "          const docLinkHtml = 'Like what you see? Visit the ' +\n",
              "            '<a target=\"_blank\" href=https://colab.research.google.com/notebooks/data_table.ipynb>data table notebook</a>'\n",
              "            + ' to learn more about interactive tables.';\n",
              "          element.innerHTML = '';\n",
              "          dataTable['output_type'] = 'display_data';\n",
              "          await google.colab.output.renderOutput(dataTable, element);\n",
              "          const docLink = document.createElement('div');\n",
              "          docLink.innerHTML = docLinkHtml;\n",
              "          element.appendChild(docLink);\n",
              "        }\n",
              "      </script>\n",
              "    </div>\n",
              "  </div>\n",
              "  "
            ]
          },
          "metadata": {}
        },
        {
          "output_type": "display_data",
          "data": {
            "text/plain": [
              "10128     True\n",
              "43165     True\n",
              "14627     True\n",
              "17654    False\n",
              "28412    False\n",
              "         ...  \n",
              "16304     True\n",
              "24306     True\n",
              "44244    False\n",
              "27014     True\n",
              "4424     False\n",
              "Name: label, Length: 8980, dtype: bool"
            ]
          },
          "metadata": {}
        },
        {
          "output_type": "execute_result",
          "data": {
            "text/plain": [
              "(35918, 2)"
            ]
          },
          "metadata": {},
          "execution_count": 62
        }
      ]
    },
    {
      "cell_type": "markdown",
      "source": [
        "After separating the data into **80% train** and **20% test** sets, a **validation set** is still needed from the training set, so that the test set can be used only for scoring"
      ],
      "metadata": {
        "id": "To0ARXtMheF8"
      }
    },
    {
      "cell_type": "code",
      "source": [
        "train_row_cnt = train_x.shape[0]\n",
        "# saving number of rows\n",
        "\n",
        "val_row_cnt = train_x.shape[0]//5\n",
        "# getting closest integer to 20% of the rows for validation set\n",
        "\n",
        "val_x = train_x[0:val_row_cnt]\n",
        "val_y = train_y[0:val_row_cnt]\n",
        "# splitting validation set off from training set\n",
        "\n",
        "train_xr = train_x[val_row_cnt:]\n",
        "train_yr = train_y[val_row_cnt:]\n",
        "# reduced training set"
      ],
      "metadata": {
        "id": "EFFFfzG7wlUT"
      },
      "execution_count": 76,
      "outputs": []
    },
    {
      "cell_type": "code",
      "source": [
        "train_text = train_xr['text'].copy().to_numpy()\n",
        "train_title = train_xr['title'].copy().to_numpy()\n",
        "# both title and text into arrays for train set\n",
        "\n",
        "val_text = val_x['text'].copy().to_numpy()\n",
        "val_title = val_x['title'].copy().to_numpy()\n",
        "# both title and text into arrays for val set\n",
        "\n",
        "test_text = test_x['text'].copy().to_numpy()\n",
        "test_title = test_x['title'].copy().to_numpy()\n",
        "# both title and text into arrays for test set\n",
        "\n",
        "train_label = train_yr.copy().astype(int)\n",
        "val_label = val_y.copy().astype(int)\n",
        "test_label = test_y.copy().astype(int)\n",
        "# converting True or False to 1 and 0s"
      ],
      "metadata": {
        "id": "kow938w-Qhwd"
      },
      "execution_count": 87,
      "outputs": []
    },
    {
      "cell_type": "code",
      "source": [
        "print(train_text.shape)\n",
        "print(val_text.shape)\n",
        "\n",
        "print(train_label.shape)\n",
        "print(val_label.shape)\n",
        "# checking the shapes of the reduced train and validation sets"
      ],
      "metadata": {
        "colab": {
          "base_uri": "https://localhost:8080/"
        },
        "id": "5SZXxH1X1DQZ",
        "outputId": "4108e754-c66c-4106-da79-8b06f8e3dc05"
      },
      "execution_count": 88,
      "outputs": [
        {
          "output_type": "stream",
          "name": "stdout",
          "text": [
            "(28735,)\n",
            "(7183,)\n",
            "(28735,)\n",
            "(7183,)\n"
          ]
        }
      ]
    },
    {
      "cell_type": "markdown",
      "source": [
        "Now, we will use the template from tensorflow's **Text Classification with Movie Reviews** from here, in order to build a neural network that can classify the text and also use a pre-trained data set\n",
        "\n",
        "https://www.tensorflow.org/hub/tutorials/tf2_text_classification\n",
        "\n",
        "The first pre-trained set is the **Universal Sentence Encoder**"
      ],
      "metadata": {
        "id": "su-iPNke3Nv3"
      }
    },
    {
      "cell_type": "code",
      "source": [
        "model = \"https://tfhub.dev/google/universal-sentence-encoder/4\"\n",
        "# Universal Sentence Encoder Model\n",
        "hub_layer = hub.KerasLayer(model, input_shape=[], dtype=tf.string, trainable=False)\n",
        "# Trainable set to false in order to leave these layers and use transfer learning"
      ],
      "metadata": {
        "colab": {
          "base_uri": "https://localhost:8080/"
        },
        "id": "IyPymDfI7yME",
        "outputId": "867b1161-2fe1-4705-d93f-acc738ef7a6b"
      },
      "execution_count": 99,
      "outputs": [
        {
          "output_type": "execute_result",
          "data": {
            "text/plain": [
              "<tf.Tensor: shape=(10, 512), dtype=float32, numpy=\n",
              "array([[-0.0517213 , -0.05552467, -0.02554719, ...,  0.06477965,\n",
              "        -0.03829817,  0.03741699],\n",
              "       [ 0.01887175,  0.0012712 , -0.03000113, ...,  0.02438172,\n",
              "        -0.05895783,  0.03694998],\n",
              "       [-0.00518859, -0.02642568, -0.05358518, ...,  0.05404968,\n",
              "        -0.05267812,  0.03191903],\n",
              "       ...,\n",
              "       [ 0.03985505, -0.05399621, -0.02998513, ...,  0.05075805,\n",
              "        -0.0346398 , -0.02686385],\n",
              "       [-0.01549583, -0.05444679, -0.03725908, ...,  0.05627702,\n",
              "        -0.04208824,  0.05308296],\n",
              "       [ 0.00885177, -0.06402616, -0.05355963, ...,  0.06364772,\n",
              "        -0.05794337,  0.05159787]], dtype=float32)>"
            ]
          },
          "metadata": {},
          "execution_count": 99
        }
      ]
    },
    {
      "cell_type": "code",
      "source": [
        "model = tf.keras.Sequential()\n",
        "model.add(hub_layer)\n",
        "model.add(tf.keras.layers.Dense(16, activation='relu'))\n",
        "model.add(tf.keras.layers.Dense(1))\n",
        "\n",
        "model.summary()"
      ],
      "metadata": {
        "colab": {
          "base_uri": "https://localhost:8080/"
        },
        "id": "NVXRB_3_Esxy",
        "outputId": "1be8f30c-bc4b-4f9d-a5aa-9faa1dba7a79"
      },
      "execution_count": 100,
      "outputs": [
        {
          "output_type": "stream",
          "name": "stdout",
          "text": [
            "Model: \"sequential_4\"\n",
            "_________________________________________________________________\n",
            " Layer (type)                Output Shape              Param #   \n",
            "=================================================================\n",
            " keras_layer_16 (KerasLayer)  (None, 512)              256797824 \n",
            "                                                                 \n",
            " dense_8 (Dense)             (None, 16)                8208      \n",
            "                                                                 \n",
            " dense_9 (Dense)             (None, 1)                 17        \n",
            "                                                                 \n",
            "=================================================================\n",
            "Total params: 256,806,049\n",
            "Trainable params: 8,225\n",
            "Non-trainable params: 256,797,824\n",
            "_________________________________________________________________\n"
          ]
        }
      ]
    },
    {
      "cell_type": "code",
      "source": [
        "model.compile(optimizer='adam',\n",
        "              loss=tf.losses.BinaryCrossentropy(from_logits=True),\n",
        "              metrics=[tf.metrics.BinaryAccuracy(threshold=0.0, name='accuracy')])\n",
        "\n",
        "callbacks = [tf.keras.callbacks.EarlyStopping(patience=10)]\n",
        "# if validation score doesn't improve with 10 eppchs, stop"
      ],
      "metadata": {
        "id": "dH8spwI4uJLB"
      },
      "execution_count": 101,
      "outputs": []
    },
    {
      "cell_type": "code",
      "source": [
        "history = model.fit(train_text,\n",
        "                    train_label,\n",
        "                    epochs=40,\n",
        "                    batch_size=512,\n",
        "                    validation_data=(val_text, val_label),\n",
        "                    callbacks=callbacks, # early stopping line\n",
        "                    verbose=1)\n",
        "# This process takes a little over an hour"
      ],
      "metadata": {
        "colab": {
          "base_uri": "https://localhost:8080/"
        },
        "id": "88SvT7hzuMi6",
        "outputId": "d9b6238a-9f05-4cf8-ca5f-308a02af74c7"
      },
      "execution_count": 102,
      "outputs": [
        {
          "output_type": "stream",
          "name": "stdout",
          "text": [
            "Epoch 1/40\n",
            "57/57 [==============================] - 99s 2s/step - loss: 0.5727 - accuracy: 0.8095 - val_loss: 0.4446 - val_accuracy: 0.8799\n",
            "Epoch 2/40\n",
            "57/57 [==============================] - 93s 2s/step - loss: 0.3699 - accuracy: 0.8914 - val_loss: 0.3139 - val_accuracy: 0.9023\n",
            "Epoch 3/40\n",
            "57/57 [==============================] - 98s 2s/step - loss: 0.2786 - accuracy: 0.9094 - val_loss: 0.2546 - val_accuracy: 0.9135\n",
            "Epoch 4/40\n",
            "57/57 [==============================] - 97s 2s/step - loss: 0.2324 - accuracy: 0.9218 - val_loss: 0.2202 - val_accuracy: 0.9225\n",
            "Epoch 5/40\n",
            "57/57 [==============================] - 96s 2s/step - loss: 0.2044 - accuracy: 0.9298 - val_loss: 0.1981 - val_accuracy: 0.9300\n",
            "Epoch 6/40\n",
            "57/57 [==============================] - 96s 2s/step - loss: 0.1857 - accuracy: 0.9351 - val_loss: 0.1826 - val_accuracy: 0.9354\n",
            "Epoch 7/40\n",
            "57/57 [==============================] - 95s 2s/step - loss: 0.1724 - accuracy: 0.9404 - val_loss: 0.1715 - val_accuracy: 0.9396\n",
            "Epoch 8/40\n",
            "57/57 [==============================] - 96s 2s/step - loss: 0.1624 - accuracy: 0.9432 - val_loss: 0.1630 - val_accuracy: 0.9425\n",
            "Epoch 9/40\n",
            "57/57 [==============================] - 97s 2s/step - loss: 0.1547 - accuracy: 0.9459 - val_loss: 0.1576 - val_accuracy: 0.9407\n",
            "Epoch 10/40\n",
            "57/57 [==============================] - 94s 2s/step - loss: 0.1488 - accuracy: 0.9474 - val_loss: 0.1512 - val_accuracy: 0.9450\n",
            "Epoch 11/40\n",
            "57/57 [==============================] - 97s 2s/step - loss: 0.1432 - accuracy: 0.9494 - val_loss: 0.1468 - val_accuracy: 0.9453\n",
            "Epoch 12/40\n",
            "57/57 [==============================] - 96s 2s/step - loss: 0.1393 - accuracy: 0.9507 - val_loss: 0.1435 - val_accuracy: 0.9450\n",
            "Epoch 13/40\n",
            "57/57 [==============================] - 99s 2s/step - loss: 0.1354 - accuracy: 0.9517 - val_loss: 0.1410 - val_accuracy: 0.9456\n",
            "Epoch 14/40\n",
            "57/57 [==============================] - 95s 2s/step - loss: 0.1325 - accuracy: 0.9527 - val_loss: 0.1378 - val_accuracy: 0.9472\n",
            "Epoch 15/40\n",
            "57/57 [==============================] - 94s 2s/step - loss: 0.1294 - accuracy: 0.9532 - val_loss: 0.1361 - val_accuracy: 0.9481\n",
            "Epoch 16/40\n",
            "57/57 [==============================] - 97s 2s/step - loss: 0.1270 - accuracy: 0.9539 - val_loss: 0.1338 - val_accuracy: 0.9484\n",
            "Epoch 17/40\n",
            "57/57 [==============================] - 96s 2s/step - loss: 0.1253 - accuracy: 0.9544 - val_loss: 0.1321 - val_accuracy: 0.9489\n",
            "Epoch 18/40\n",
            "57/57 [==============================] - 96s 2s/step - loss: 0.1232 - accuracy: 0.9544 - val_loss: 0.1309 - val_accuracy: 0.9492\n",
            "Epoch 19/40\n",
            "57/57 [==============================] - 96s 2s/step - loss: 0.1215 - accuracy: 0.9554 - val_loss: 0.1297 - val_accuracy: 0.9500\n",
            "Epoch 20/40\n",
            "57/57 [==============================] - 98s 2s/step - loss: 0.1197 - accuracy: 0.9558 - val_loss: 0.1289 - val_accuracy: 0.9497\n",
            "Epoch 21/40\n",
            "57/57 [==============================] - 94s 2s/step - loss: 0.1184 - accuracy: 0.9563 - val_loss: 0.1278 - val_accuracy: 0.9507\n",
            "Epoch 22/40\n",
            "57/57 [==============================] - 98s 2s/step - loss: 0.1171 - accuracy: 0.9568 - val_loss: 0.1266 - val_accuracy: 0.9509\n",
            "Epoch 23/40\n",
            "57/57 [==============================] - 97s 2s/step - loss: 0.1159 - accuracy: 0.9575 - val_loss: 0.1264 - val_accuracy: 0.9507\n",
            "Epoch 24/40\n",
            "57/57 [==============================] - 94s 2s/step - loss: 0.1149 - accuracy: 0.9582 - val_loss: 0.1253 - val_accuracy: 0.9518\n",
            "Epoch 25/40\n",
            "57/57 [==============================] - 95s 2s/step - loss: 0.1137 - accuracy: 0.9577 - val_loss: 0.1249 - val_accuracy: 0.9509\n",
            "Epoch 26/40\n",
            "57/57 [==============================] - 98s 2s/step - loss: 0.1127 - accuracy: 0.9587 - val_loss: 0.1247 - val_accuracy: 0.9514\n",
            "Epoch 27/40\n",
            "57/57 [==============================] - 97s 2s/step - loss: 0.1122 - accuracy: 0.9588 - val_loss: 0.1237 - val_accuracy: 0.9511\n",
            "Epoch 28/40\n",
            "57/57 [==============================] - 97s 2s/step - loss: 0.1113 - accuracy: 0.9597 - val_loss: 0.1232 - val_accuracy: 0.9516\n",
            "Epoch 29/40\n",
            "57/57 [==============================] - 97s 2s/step - loss: 0.1107 - accuracy: 0.9592 - val_loss: 0.1228 - val_accuracy: 0.9514\n",
            "Epoch 30/40\n",
            "57/57 [==============================] - 97s 2s/step - loss: 0.1097 - accuracy: 0.9593 - val_loss: 0.1223 - val_accuracy: 0.9521\n",
            "Epoch 31/40\n",
            "57/57 [==============================] - 96s 2s/step - loss: 0.1092 - accuracy: 0.9599 - val_loss: 0.1221 - val_accuracy: 0.9514\n",
            "Epoch 32/40\n",
            "57/57 [==============================] - 96s 2s/step - loss: 0.1084 - accuracy: 0.9595 - val_loss: 0.1220 - val_accuracy: 0.9513\n",
            "Epoch 33/40\n",
            "57/57 [==============================] - 98s 2s/step - loss: 0.1080 - accuracy: 0.9604 - val_loss: 0.1214 - val_accuracy: 0.9514\n",
            "Epoch 34/40\n",
            "57/57 [==============================] - 100s 2s/step - loss: 0.1074 - accuracy: 0.9601 - val_loss: 0.1212 - val_accuracy: 0.9513\n",
            "Epoch 35/40\n",
            "57/57 [==============================] - 96s 2s/step - loss: 0.1074 - accuracy: 0.9601 - val_loss: 0.1208 - val_accuracy: 0.9522\n",
            "Epoch 36/40\n",
            "57/57 [==============================] - 98s 2s/step - loss: 0.1065 - accuracy: 0.9608 - val_loss: 0.1208 - val_accuracy: 0.9522\n",
            "Epoch 37/40\n",
            "57/57 [==============================] - 95s 2s/step - loss: 0.1059 - accuracy: 0.9610 - val_loss: 0.1203 - val_accuracy: 0.9520\n",
            "Epoch 38/40\n",
            "57/57 [==============================] - 96s 2s/step - loss: 0.1055 - accuracy: 0.9608 - val_loss: 0.1199 - val_accuracy: 0.9516\n",
            "Epoch 39/40\n",
            "57/57 [==============================] - 96s 2s/step - loss: 0.1053 - accuracy: 0.9613 - val_loss: 0.1199 - val_accuracy: 0.9514\n",
            "Epoch 40/40\n",
            "57/57 [==============================] - 98s 2s/step - loss: 0.1048 - accuracy: 0.9616 - val_loss: 0.1199 - val_accuracy: 0.9520\n"
          ]
        }
      ]
    },
    {
      "cell_type": "code",
      "source": [
        "results = model.evaluate(test_text, test_label)\n",
        "print(results)"
      ],
      "metadata": {
        "colab": {
          "base_uri": "https://localhost:8080/"
        },
        "id": "3sEJ7QaJ1t1S",
        "outputId": "21dc0bb7-cfd6-4dc9-ae32-ab6196a9dc37"
      },
      "execution_count": 103,
      "outputs": [
        {
          "output_type": "stream",
          "name": "stdout",
          "text": [
            "281/281 [==============================] - 14s 49ms/step - loss: 0.1244 - accuracy: 0.9494\n",
            "[0.12443792074918747, 0.9494432210922241]\n"
          ]
        }
      ]
    },
    {
      "cell_type": "markdown",
      "source": [
        "Here we have an accuracy of **94.94 %**, which is pretty high, especially since this is only using the text portion of the article for classification."
      ],
      "metadata": {
        "id": "r08k3jPNHsVv"
      }
    },
    {
      "cell_type": "code",
      "source": [
        "history_dict = history.history\n",
        "history_dict.keys()"
      ],
      "metadata": {
        "colab": {
          "base_uri": "https://localhost:8080/"
        },
        "id": "kVXHNxGLhEUr",
        "outputId": "8d438de9-ecbd-49b5-be7b-75865a9bb017"
      },
      "execution_count": 104,
      "outputs": [
        {
          "output_type": "execute_result",
          "data": {
            "text/plain": [
              "dict_keys(['loss', 'accuracy', 'val_loss', 'val_accuracy'])"
            ]
          },
          "metadata": {},
          "execution_count": 104
        }
      ]
    },
    {
      "cell_type": "code",
      "source": [
        "acc = history_dict['accuracy']\n",
        "val_acc = history_dict['val_accuracy']\n",
        "loss = history_dict['loss']\n",
        "val_loss = history_dict['val_loss']\n",
        "\n",
        "epochs = range(1, len(acc) + 1)\n",
        "\n",
        "# \"bo\" is for \"blue dot\"\n",
        "plt.plot(epochs, loss, 'bo', label='Training loss')\n",
        "# b is for \"solid blue line\"\n",
        "plt.plot(epochs, val_loss, 'b', label='Validation loss')\n",
        "plt.title('Training and validation loss')\n",
        "plt.xlabel('Epochs')\n",
        "plt.ylabel('Loss')\n",
        "plt.legend()\n",
        "\n",
        "plt.show()"
      ],
      "metadata": {
        "colab": {
          "base_uri": "https://localhost:8080/",
          "height": 295
        },
        "id": "eYkMYVhEILM5",
        "outputId": "d5f13001-3c54-4ae9-9931-054d7c45720c"
      },
      "execution_count": 105,
      "outputs": [
        {
          "output_type": "display_data",
          "data": {
            "text/plain": [
              "<Figure size 432x288 with 1 Axes>"
            ],
            "image/png": "[encoded data removed]"
          },
          "metadata": {
            "needs_background": "light"
          }
        }
      ]
    },
    {
      "cell_type": "code",
      "source": [
        "plt.clf()   # clear figure\n",
        "\n",
        "plt.plot(epochs, acc, 'bo', label='Training acc')\n",
        "plt.plot(epochs, val_acc, 'b', label='Validation acc')\n",
        "plt.title('Training and validation accuracy')\n",
        "plt.xlabel('Epochs')\n",
        "plt.ylabel('Accuracy')\n",
        "plt.legend()\n",
        "\n",
        "plt.show()"
      ],
      "metadata": {
        "colab": {
          "base_uri": "https://localhost:8080/",
          "height": 295
        },
        "id": "ybdIxAMYIbEB",
        "outputId": "4b45dcef-89d7-42a7-d767-50295a32ed0e"
      },
      "execution_count": 106,
      "outputs": [
        {
          "output_type": "display_data",
          "data": {
            "text/plain": [
              "<Figure size 432x288 with 1 Axes>"
            ],
            "image/png": "[encoded data removed]"
          },
          "metadata": {
            "needs_background": "light"
          }
        }
      ]
    },
    {
      "cell_type": "code",
      "source": [
        "# TEST WITH DIFFERENT PRE-PROCESSED TEXT CORPUS\n",
        "\n",
        "#model = \"https://tfhub.dev/google/nnlm-en-dim50/2\"\n",
        "#Token based text embedding trained on English Google News 7B corpus.\n",
        "\n"
      ],
      "metadata": {
        "id": "KZ2gDMalFCg3"
      },
      "execution_count": null,
      "outputs": []
    },
    {
      "cell_type": "markdown",
      "source": [
        "# New Section"
      ],
      "metadata": {
        "id": "ySQZEK8yXbb5"
      }
    }
  ]
}