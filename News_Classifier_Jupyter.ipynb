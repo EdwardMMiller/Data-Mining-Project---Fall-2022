{
 "cells": [
  {
   "cell_type": "markdown",
   "source": [
    "# **NEWS CLASSIFIER**\n",
    "\n",
    "## DATA MINING - FALL 2022\n",
    "## CUNY GRADUATE CENTER\n",
    "## Edward Miller\n",
    "\n",
    "## Overview\n",
    "\n",
    "Over the past few decades, news sources have drastically shifted from print media to\n",
    "online sites due to the widespread adoption of the internet by the general public. As a\n",
    "consequence of this shift, it has become easier for news articles from untrustworthy\n",
    "sources to pass themselves as real, and cause disinformation to spread rapidly. This\n",
    "disinformation can cause widespread damage and is often used to push false narratives to\n",
    "benefit a political party or a government. It has already caused harm to democratic\n",
    "institutions by eroding trust in media sources, as well as motivating extreme actions based\n",
    "on incorrect information, such as the Capitol Riots on January 6, 2021 . Therefore, it is now\n",
    "more important than ever to develop sound methods for determining whether a news\n",
    "story is real, or not. The intent of this project will be to use deep learning in order to train a\n",
    "model that can correctly classify a list of news stories as real or not real.\n",
    "\n",
    "## Goals\n",
    "1. Train a deep learning model for binary classification to correctly classify whether a\n",
    "news story is real\n",
    "2. Test Trained Model on a dataset to determine how well it differentiates between the\n",
    "two classes, and report findings.\n",
    "\n",
    "## Dataset\n",
    "The dataset, as well as the inspiration for this project, comes from the following kaggle\n",
    "website.\n",
    "\n",
    "https://www.kaggle.com/code/urkchar/determine-if-news-is-fake-or-real/notebook\n",
    "\n",
    "Progress will be updated through Github here:\n",
    "\n",
    "https://github.com/EdwardMMiller/Data-Mining-Project---Fall-2022/new/main"
   ],
   "metadata": {
    "collapsed": false
   }
  },
  {
   "cell_type": "markdown",
   "source": [],
   "metadata": {
    "collapsed": false
   }
  },
  {
   "cell_type": "markdown",
   "source": [],
   "metadata": {
    "collapsed": false
   }
  },
  {
   "cell_type": "code",
   "execution_count": 5,
   "outputs": [
    {
     "name": "stdout",
     "output_type": "stream",
     "text": [
      "Number of rows in True_df =  21417\n",
      "Number of rows in Fake_df =  23481\n",
      "Number of columns in True_df =  4\n",
      "Number of columns in Fake_df =  4\n",
      "List of columns in True_df ['title', 'text', 'subject', 'date']\n",
      "List of columns in False_df ['title', 'text', 'subject', 'date']\n"
     ]
    },
    {
     "data": {
      "text/plain": "                                               title  \\\n0  As U.S. budget fight looms, Republicans flip t...   \n1  U.S. military to accept transgender recruits o...   \n2  Senior U.S. Republican senator: 'Let Mr. Muell...   \n3  FBI Russia probe helped by Australian diplomat...   \n4  Trump wants Postal Service to charge 'much mor...   \n\n                                                text       subject  \\\n0  WASHINGTON (Reuters) - The head of a conservat...  politicsNews   \n1  WASHINGTON (Reuters) - Transgender people will...  politicsNews   \n2  WASHINGTON (Reuters) - The special counsel inv...  politicsNews   \n3  WASHINGTON (Reuters) - Trump campaign adviser ...  politicsNews   \n4  SEATTLE/WASHINGTON (Reuters) - President Donal...  politicsNews   \n\n                 date  \n0  December 31, 2017   \n1  December 29, 2017   \n2  December 31, 2017   \n3  December 30, 2017   \n4  December 29, 2017   ",
      "text/html": "<div>\n<style scoped>\n    .dataframe tbody tr th:only-of-type {\n        vertical-align: middle;\n    }\n\n    .dataframe tbody tr th {\n        vertical-align: top;\n    }\n\n    .dataframe thead th {\n        text-align: right;\n    }\n</style>\n<table border=\"1\" class=\"dataframe\">\n  <thead>\n    <tr style=\"text-align: right;\">\n      <th></th>\n      <th>title</th>\n      <th>text</th>\n      <th>subject</th>\n      <th>date</th>\n    </tr>\n  </thead>\n  <tbody>\n    <tr>\n      <th>0</th>\n      <td>As U.S. budget fight looms, Republicans flip t...</td>\n      <td>WASHINGTON (Reuters) - The head of a conservat...</td>\n      <td>politicsNews</td>\n      <td>December 31, 2017</td>\n    </tr>\n    <tr>\n      <th>1</th>\n      <td>U.S. military to accept transgender recruits o...</td>\n      <td>WASHINGTON (Reuters) - Transgender people will...</td>\n      <td>politicsNews</td>\n      <td>December 29, 2017</td>\n    </tr>\n    <tr>\n      <th>2</th>\n      <td>Senior U.S. Republican senator: 'Let Mr. Muell...</td>\n      <td>WASHINGTON (Reuters) - The special counsel inv...</td>\n      <td>politicsNews</td>\n      <td>December 31, 2017</td>\n    </tr>\n    <tr>\n      <th>3</th>\n      <td>FBI Russia probe helped by Australian diplomat...</td>\n      <td>WASHINGTON (Reuters) - Trump campaign adviser ...</td>\n      <td>politicsNews</td>\n      <td>December 30, 2017</td>\n    </tr>\n    <tr>\n      <th>4</th>\n      <td>Trump wants Postal Service to charge 'much mor...</td>\n      <td>SEATTLE/WASHINGTON (Reuters) - President Donal...</td>\n      <td>politicsNews</td>\n      <td>December 29, 2017</td>\n    </tr>\n  </tbody>\n</table>\n</div>"
     },
     "metadata": {},
     "output_type": "display_data"
    }
   ],
   "source": [
    "import pandas as pd\n",
    "import numpy as np\n",
    "import matplotlib.pyplot as plt\n",
    "# importing basic libraries\n",
    "\n",
    "from sklearn import metrics\n",
    "from sklearn.model_selection import GridSearchCV, train_test_split\n",
    "# importing sklearn packages\n",
    "\n",
    "True_df = pd.read_csv('True.csv')\n",
    "Fake_df = pd.read_csv('Fake.csv')\n",
    "# getting the csv files into dataframe\n",
    "\n",
    "print(\"Number of rows in True_df = \", True_df.shape[0])\n",
    "print(\"Number of rows in Fake_df = \", Fake_df.shape[0])\n",
    "print(\"Number of columns in True_df = \", True_df.shape[1])\n",
    "print(\"Number of columns in Fake_df = \", Fake_df.shape[1])\n",
    "# Checking number of rows and columns in each dataset\n",
    "\n",
    "columns_list_T = True_df.columns.tolist()\n",
    "columns_list_F = Fake_df.columns.tolist()\n",
    "print(\"List of columns in True_df\", columns_list_T)\n",
    "print(\"List of columns in False_df\", columns_list_T)\n",
    "# checking to see if columns are the same\n",
    "\n",
    "columns_list = columns_list_T.copy()\n",
    "\n",
    "display(True_df.head())"
   ],
   "metadata": {
    "collapsed": false
   }
  },
  {
   "cell_type": "code",
   "execution_count": 5,
   "outputs": [],
   "source": [],
   "metadata": {
    "collapsed": false
   }
  }
 ],
 "metadata": {
  "kernelspec": {
   "display_name": "Python 3",
   "language": "python",
   "name": "python3"
  },
  "language_info": {
   "codemirror_mode": {
    "name": "ipython",
    "version": 2
   },
   "file_extension": ".py",
   "mimetype": "text/x-python",
   "name": "python",
   "nbconvert_exporter": "python",
   "pygments_lexer": "ipython2",
   "version": "2.7.6"
  }
 },
 "nbformat": 4,
 "nbformat_minor": 0
}
